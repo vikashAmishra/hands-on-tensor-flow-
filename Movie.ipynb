{
 "cells": [
  {
   "cell_type": "markdown",
   "metadata": {},
   "source": [
    "##Importing libraries"
   ]
  },
  {
   "cell_type": "code",
   "execution_count": 3,
   "metadata": {},
   "outputs": [
    {
     "name": "stderr",
     "output_type": "stream",
     "text": [
      "IOPub data rate exceeded.\n",
      "The notebook server will temporarily stop sending output\n",
      "to the client in order to avoid crashing it.\n",
      "To change this limit, set the config variable\n",
      "`--NotebookApp.iopub_data_rate_limit`.\n"
     ]
    }
   ],
   "source": [
    "import pandas as pd\n",
    "import matplotlib.pyplot as plt\n",
    "import seaborn as sns\n",
    "import numpy as np\n",
    "%matplotlib inline\n"
   ]
  },
  {
   "cell_type": "markdown",
   "metadata": {},
   "source": [
    "##Reading the Data"
   ]
  },
  {
   "cell_type": "code",
   "execution_count": 4,
   "metadata": {
    "collapsed": true
   },
   "outputs": [],
   "source": [
    "data = pd.read_csv('https://raw.githubusercontent.com/sundeepblue/movie_rating_prediction/master/movie_metadata.csv')"
   ]
  },
  {
   "cell_type": "markdown",
   "metadata": {},
   "source": [
    "# Data insights"
   ]
  },
  {
   "cell_type": "code",
   "execution_count": 5,
   "metadata": {},
   "outputs": [
    {
     "data": {
      "text/html": [
       "<div>\n",
       "<style>\n",
       "    .dataframe thead tr:only-child th {\n",
       "        text-align: right;\n",
       "    }\n",
       "\n",
       "    .dataframe thead th {\n",
       "        text-align: left;\n",
       "    }\n",
       "\n",
       "    .dataframe tbody tr th {\n",
       "        vertical-align: top;\n",
       "    }\n",
       "</style>\n",
       "<table border=\"1\" class=\"dataframe\">\n",
       "  <thead>\n",
       "    <tr style=\"text-align: right;\">\n",
       "      <th></th>\n",
       "      <th>num_critic_for_reviews</th>\n",
       "      <th>duration</th>\n",
       "      <th>director_facebook_likes</th>\n",
       "      <th>actor_3_facebook_likes</th>\n",
       "      <th>actor_1_facebook_likes</th>\n",
       "      <th>gross</th>\n",
       "      <th>num_voted_users</th>\n",
       "      <th>cast_total_facebook_likes</th>\n",
       "      <th>facenumber_in_poster</th>\n",
       "      <th>num_user_for_reviews</th>\n",
       "      <th>budget</th>\n",
       "      <th>title_year</th>\n",
       "      <th>actor_2_facebook_likes</th>\n",
       "      <th>imdb_score</th>\n",
       "      <th>aspect_ratio</th>\n",
       "      <th>movie_facebook_likes</th>\n",
       "    </tr>\n",
       "  </thead>\n",
       "  <tbody>\n",
       "    <tr>\n",
       "      <th>count</th>\n",
       "      <td>4993.000000</td>\n",
       "      <td>5028.000000</td>\n",
       "      <td>4939.000000</td>\n",
       "      <td>5020.000000</td>\n",
       "      <td>5036.000000</td>\n",
       "      <td>4.159000e+03</td>\n",
       "      <td>5.043000e+03</td>\n",
       "      <td>5043.000000</td>\n",
       "      <td>5030.000000</td>\n",
       "      <td>5022.000000</td>\n",
       "      <td>4.551000e+03</td>\n",
       "      <td>4935.000000</td>\n",
       "      <td>5030.000000</td>\n",
       "      <td>5043.000000</td>\n",
       "      <td>4714.000000</td>\n",
       "      <td>5043.000000</td>\n",
       "    </tr>\n",
       "    <tr>\n",
       "      <th>mean</th>\n",
       "      <td>140.194272</td>\n",
       "      <td>107.201074</td>\n",
       "      <td>686.509212</td>\n",
       "      <td>645.009761</td>\n",
       "      <td>6560.047061</td>\n",
       "      <td>4.846841e+07</td>\n",
       "      <td>8.366816e+04</td>\n",
       "      <td>9699.063851</td>\n",
       "      <td>1.371173</td>\n",
       "      <td>272.770808</td>\n",
       "      <td>3.975262e+07</td>\n",
       "      <td>2002.470517</td>\n",
       "      <td>1651.754473</td>\n",
       "      <td>6.442138</td>\n",
       "      <td>2.220403</td>\n",
       "      <td>7525.964505</td>\n",
       "    </tr>\n",
       "    <tr>\n",
       "      <th>std</th>\n",
       "      <td>121.601675</td>\n",
       "      <td>25.197441</td>\n",
       "      <td>2813.328607</td>\n",
       "      <td>1665.041728</td>\n",
       "      <td>15020.759120</td>\n",
       "      <td>6.845299e+07</td>\n",
       "      <td>1.384853e+05</td>\n",
       "      <td>18163.799124</td>\n",
       "      <td>2.013576</td>\n",
       "      <td>377.982886</td>\n",
       "      <td>2.061149e+08</td>\n",
       "      <td>12.474599</td>\n",
       "      <td>4042.438863</td>\n",
       "      <td>1.125116</td>\n",
       "      <td>1.385113</td>\n",
       "      <td>19320.445110</td>\n",
       "    </tr>\n",
       "    <tr>\n",
       "      <th>min</th>\n",
       "      <td>1.000000</td>\n",
       "      <td>7.000000</td>\n",
       "      <td>0.000000</td>\n",
       "      <td>0.000000</td>\n",
       "      <td>0.000000</td>\n",
       "      <td>1.620000e+02</td>\n",
       "      <td>5.000000e+00</td>\n",
       "      <td>0.000000</td>\n",
       "      <td>0.000000</td>\n",
       "      <td>1.000000</td>\n",
       "      <td>2.180000e+02</td>\n",
       "      <td>1916.000000</td>\n",
       "      <td>0.000000</td>\n",
       "      <td>1.600000</td>\n",
       "      <td>1.180000</td>\n",
       "      <td>0.000000</td>\n",
       "    </tr>\n",
       "    <tr>\n",
       "      <th>25%</th>\n",
       "      <td>50.000000</td>\n",
       "      <td>93.000000</td>\n",
       "      <td>7.000000</td>\n",
       "      <td>133.000000</td>\n",
       "      <td>614.000000</td>\n",
       "      <td>5.340988e+06</td>\n",
       "      <td>8.593500e+03</td>\n",
       "      <td>1411.000000</td>\n",
       "      <td>0.000000</td>\n",
       "      <td>65.000000</td>\n",
       "      <td>6.000000e+06</td>\n",
       "      <td>1999.000000</td>\n",
       "      <td>281.000000</td>\n",
       "      <td>5.800000</td>\n",
       "      <td>1.850000</td>\n",
       "      <td>0.000000</td>\n",
       "    </tr>\n",
       "    <tr>\n",
       "      <th>50%</th>\n",
       "      <td>110.000000</td>\n",
       "      <td>103.000000</td>\n",
       "      <td>49.000000</td>\n",
       "      <td>371.500000</td>\n",
       "      <td>988.000000</td>\n",
       "      <td>2.551750e+07</td>\n",
       "      <td>3.435900e+04</td>\n",
       "      <td>3090.000000</td>\n",
       "      <td>1.000000</td>\n",
       "      <td>156.000000</td>\n",
       "      <td>2.000000e+07</td>\n",
       "      <td>2005.000000</td>\n",
       "      <td>595.000000</td>\n",
       "      <td>6.600000</td>\n",
       "      <td>2.350000</td>\n",
       "      <td>166.000000</td>\n",
       "    </tr>\n",
       "    <tr>\n",
       "      <th>75%</th>\n",
       "      <td>195.000000</td>\n",
       "      <td>118.000000</td>\n",
       "      <td>194.500000</td>\n",
       "      <td>636.000000</td>\n",
       "      <td>11000.000000</td>\n",
       "      <td>6.230944e+07</td>\n",
       "      <td>9.630900e+04</td>\n",
       "      <td>13756.500000</td>\n",
       "      <td>2.000000</td>\n",
       "      <td>326.000000</td>\n",
       "      <td>4.500000e+07</td>\n",
       "      <td>2011.000000</td>\n",
       "      <td>918.000000</td>\n",
       "      <td>7.200000</td>\n",
       "      <td>2.350000</td>\n",
       "      <td>3000.000000</td>\n",
       "    </tr>\n",
       "    <tr>\n",
       "      <th>max</th>\n",
       "      <td>813.000000</td>\n",
       "      <td>511.000000</td>\n",
       "      <td>23000.000000</td>\n",
       "      <td>23000.000000</td>\n",
       "      <td>640000.000000</td>\n",
       "      <td>7.605058e+08</td>\n",
       "      <td>1.689764e+06</td>\n",
       "      <td>656730.000000</td>\n",
       "      <td>43.000000</td>\n",
       "      <td>5060.000000</td>\n",
       "      <td>1.221550e+10</td>\n",
       "      <td>2016.000000</td>\n",
       "      <td>137000.000000</td>\n",
       "      <td>9.500000</td>\n",
       "      <td>16.000000</td>\n",
       "      <td>349000.000000</td>\n",
       "    </tr>\n",
       "  </tbody>\n",
       "</table>\n",
       "</div>"
      ],
      "text/plain": [
       "       num_critic_for_reviews     duration  director_facebook_likes  \\\n",
       "count             4993.000000  5028.000000              4939.000000   \n",
       "mean               140.194272   107.201074               686.509212   \n",
       "std                121.601675    25.197441              2813.328607   \n",
       "min                  1.000000     7.000000                 0.000000   \n",
       "25%                 50.000000    93.000000                 7.000000   \n",
       "50%                110.000000   103.000000                49.000000   \n",
       "75%                195.000000   118.000000               194.500000   \n",
       "max                813.000000   511.000000             23000.000000   \n",
       "\n",
       "       actor_3_facebook_likes  actor_1_facebook_likes         gross  \\\n",
       "count             5020.000000             5036.000000  4.159000e+03   \n",
       "mean               645.009761             6560.047061  4.846841e+07   \n",
       "std               1665.041728            15020.759120  6.845299e+07   \n",
       "min                  0.000000                0.000000  1.620000e+02   \n",
       "25%                133.000000              614.000000  5.340988e+06   \n",
       "50%                371.500000              988.000000  2.551750e+07   \n",
       "75%                636.000000            11000.000000  6.230944e+07   \n",
       "max              23000.000000           640000.000000  7.605058e+08   \n",
       "\n",
       "       num_voted_users  cast_total_facebook_likes  facenumber_in_poster  \\\n",
       "count     5.043000e+03                5043.000000           5030.000000   \n",
       "mean      8.366816e+04                9699.063851              1.371173   \n",
       "std       1.384853e+05               18163.799124              2.013576   \n",
       "min       5.000000e+00                   0.000000              0.000000   \n",
       "25%       8.593500e+03                1411.000000              0.000000   \n",
       "50%       3.435900e+04                3090.000000              1.000000   \n",
       "75%       9.630900e+04               13756.500000              2.000000   \n",
       "max       1.689764e+06              656730.000000             43.000000   \n",
       "\n",
       "       num_user_for_reviews        budget   title_year  \\\n",
       "count           5022.000000  4.551000e+03  4935.000000   \n",
       "mean             272.770808  3.975262e+07  2002.470517   \n",
       "std              377.982886  2.061149e+08    12.474599   \n",
       "min                1.000000  2.180000e+02  1916.000000   \n",
       "25%               65.000000  6.000000e+06  1999.000000   \n",
       "50%              156.000000  2.000000e+07  2005.000000   \n",
       "75%              326.000000  4.500000e+07  2011.000000   \n",
       "max             5060.000000  1.221550e+10  2016.000000   \n",
       "\n",
       "       actor_2_facebook_likes   imdb_score  aspect_ratio  movie_facebook_likes  \n",
       "count             5030.000000  5043.000000   4714.000000           5043.000000  \n",
       "mean              1651.754473     6.442138      2.220403           7525.964505  \n",
       "std               4042.438863     1.125116      1.385113          19320.445110  \n",
       "min                  0.000000     1.600000      1.180000              0.000000  \n",
       "25%                281.000000     5.800000      1.850000              0.000000  \n",
       "50%                595.000000     6.600000      2.350000            166.000000  \n",
       "75%                918.000000     7.200000      2.350000           3000.000000  \n",
       "max             137000.000000     9.500000     16.000000         349000.000000  "
      ]
     },
     "execution_count": 5,
     "metadata": {},
     "output_type": "execute_result"
    }
   ],
   "source": [
    "data.describe()"
   ]
  },
  {
   "cell_type": "code",
   "execution_count": null,
   "metadata": {
    "collapsed": true
   },
   "outputs": [],
   "source": [
    "##Here we can see the minimum value is 0 for many columns"
   ]
  },
  {
   "cell_type": "code",
   "execution_count": 7,
   "metadata": {},
   "outputs": [
    {
     "data": {
      "text/html": [
       "<div>\n",
       "<style>\n",
       "    .dataframe thead tr:only-child th {\n",
       "        text-align: right;\n",
       "    }\n",
       "\n",
       "    .dataframe thead th {\n",
       "        text-align: left;\n",
       "    }\n",
       "\n",
       "    .dataframe tbody tr th {\n",
       "        vertical-align: top;\n",
       "    }\n",
       "</style>\n",
       "<table border=\"1\" class=\"dataframe\">\n",
       "  <thead>\n",
       "    <tr style=\"text-align: right;\">\n",
       "      <th></th>\n",
       "      <th>color</th>\n",
       "      <th>director_name</th>\n",
       "      <th>num_critic_for_reviews</th>\n",
       "      <th>duration</th>\n",
       "      <th>director_facebook_likes</th>\n",
       "      <th>actor_3_facebook_likes</th>\n",
       "      <th>actor_2_name</th>\n",
       "      <th>actor_1_facebook_likes</th>\n",
       "      <th>gross</th>\n",
       "      <th>genres</th>\n",
       "      <th>...</th>\n",
       "      <th>num_user_for_reviews</th>\n",
       "      <th>language</th>\n",
       "      <th>country</th>\n",
       "      <th>content_rating</th>\n",
       "      <th>budget</th>\n",
       "      <th>title_year</th>\n",
       "      <th>actor_2_facebook_likes</th>\n",
       "      <th>imdb_score</th>\n",
       "      <th>aspect_ratio</th>\n",
       "      <th>movie_facebook_likes</th>\n",
       "    </tr>\n",
       "  </thead>\n",
       "  <tbody>\n",
       "    <tr>\n",
       "      <th>0</th>\n",
       "      <td>Color</td>\n",
       "      <td>James Cameron</td>\n",
       "      <td>723.0</td>\n",
       "      <td>178.0</td>\n",
       "      <td>0.0</td>\n",
       "      <td>855.0</td>\n",
       "      <td>Joel David Moore</td>\n",
       "      <td>1000.0</td>\n",
       "      <td>760505847.0</td>\n",
       "      <td>Action|Adventure|Fantasy|Sci-Fi</td>\n",
       "      <td>...</td>\n",
       "      <td>3054.0</td>\n",
       "      <td>English</td>\n",
       "      <td>USA</td>\n",
       "      <td>PG-13</td>\n",
       "      <td>237000000.0</td>\n",
       "      <td>2009.0</td>\n",
       "      <td>936.0</td>\n",
       "      <td>7.9</td>\n",
       "      <td>1.78</td>\n",
       "      <td>33000</td>\n",
       "    </tr>\n",
       "    <tr>\n",
       "      <th>1</th>\n",
       "      <td>Color</td>\n",
       "      <td>Gore Verbinski</td>\n",
       "      <td>302.0</td>\n",
       "      <td>169.0</td>\n",
       "      <td>563.0</td>\n",
       "      <td>1000.0</td>\n",
       "      <td>Orlando Bloom</td>\n",
       "      <td>40000.0</td>\n",
       "      <td>309404152.0</td>\n",
       "      <td>Action|Adventure|Fantasy</td>\n",
       "      <td>...</td>\n",
       "      <td>1238.0</td>\n",
       "      <td>English</td>\n",
       "      <td>USA</td>\n",
       "      <td>PG-13</td>\n",
       "      <td>300000000.0</td>\n",
       "      <td>2007.0</td>\n",
       "      <td>5000.0</td>\n",
       "      <td>7.1</td>\n",
       "      <td>2.35</td>\n",
       "      <td>0</td>\n",
       "    </tr>\n",
       "    <tr>\n",
       "      <th>2</th>\n",
       "      <td>Color</td>\n",
       "      <td>Sam Mendes</td>\n",
       "      <td>602.0</td>\n",
       "      <td>148.0</td>\n",
       "      <td>0.0</td>\n",
       "      <td>161.0</td>\n",
       "      <td>Rory Kinnear</td>\n",
       "      <td>11000.0</td>\n",
       "      <td>200074175.0</td>\n",
       "      <td>Action|Adventure|Thriller</td>\n",
       "      <td>...</td>\n",
       "      <td>994.0</td>\n",
       "      <td>English</td>\n",
       "      <td>UK</td>\n",
       "      <td>PG-13</td>\n",
       "      <td>245000000.0</td>\n",
       "      <td>2015.0</td>\n",
       "      <td>393.0</td>\n",
       "      <td>6.8</td>\n",
       "      <td>2.35</td>\n",
       "      <td>85000</td>\n",
       "    </tr>\n",
       "    <tr>\n",
       "      <th>3</th>\n",
       "      <td>Color</td>\n",
       "      <td>Christopher Nolan</td>\n",
       "      <td>813.0</td>\n",
       "      <td>164.0</td>\n",
       "      <td>22000.0</td>\n",
       "      <td>23000.0</td>\n",
       "      <td>Christian Bale</td>\n",
       "      <td>27000.0</td>\n",
       "      <td>448130642.0</td>\n",
       "      <td>Action|Thriller</td>\n",
       "      <td>...</td>\n",
       "      <td>2701.0</td>\n",
       "      <td>English</td>\n",
       "      <td>USA</td>\n",
       "      <td>PG-13</td>\n",
       "      <td>250000000.0</td>\n",
       "      <td>2012.0</td>\n",
       "      <td>23000.0</td>\n",
       "      <td>8.5</td>\n",
       "      <td>2.35</td>\n",
       "      <td>164000</td>\n",
       "    </tr>\n",
       "    <tr>\n",
       "      <th>4</th>\n",
       "      <td>NaN</td>\n",
       "      <td>Doug Walker</td>\n",
       "      <td>NaN</td>\n",
       "      <td>NaN</td>\n",
       "      <td>131.0</td>\n",
       "      <td>NaN</td>\n",
       "      <td>Rob Walker</td>\n",
       "      <td>131.0</td>\n",
       "      <td>NaN</td>\n",
       "      <td>Documentary</td>\n",
       "      <td>...</td>\n",
       "      <td>NaN</td>\n",
       "      <td>NaN</td>\n",
       "      <td>NaN</td>\n",
       "      <td>NaN</td>\n",
       "      <td>NaN</td>\n",
       "      <td>NaN</td>\n",
       "      <td>12.0</td>\n",
       "      <td>7.1</td>\n",
       "      <td>NaN</td>\n",
       "      <td>0</td>\n",
       "    </tr>\n",
       "  </tbody>\n",
       "</table>\n",
       "<p>5 rows × 28 columns</p>\n",
       "</div>"
      ],
      "text/plain": [
       "   color      director_name  num_critic_for_reviews  duration  \\\n",
       "0  Color      James Cameron                   723.0     178.0   \n",
       "1  Color     Gore Verbinski                   302.0     169.0   \n",
       "2  Color         Sam Mendes                   602.0     148.0   \n",
       "3  Color  Christopher Nolan                   813.0     164.0   \n",
       "4    NaN        Doug Walker                     NaN       NaN   \n",
       "\n",
       "   director_facebook_likes  actor_3_facebook_likes      actor_2_name  \\\n",
       "0                      0.0                   855.0  Joel David Moore   \n",
       "1                    563.0                  1000.0     Orlando Bloom   \n",
       "2                      0.0                   161.0      Rory Kinnear   \n",
       "3                  22000.0                 23000.0    Christian Bale   \n",
       "4                    131.0                     NaN        Rob Walker   \n",
       "\n",
       "   actor_1_facebook_likes        gross                           genres  \\\n",
       "0                  1000.0  760505847.0  Action|Adventure|Fantasy|Sci-Fi   \n",
       "1                 40000.0  309404152.0         Action|Adventure|Fantasy   \n",
       "2                 11000.0  200074175.0        Action|Adventure|Thriller   \n",
       "3                 27000.0  448130642.0                  Action|Thriller   \n",
       "4                   131.0          NaN                      Documentary   \n",
       "\n",
       "          ...          num_user_for_reviews language  country  content_rating  \\\n",
       "0         ...                        3054.0  English      USA           PG-13   \n",
       "1         ...                        1238.0  English      USA           PG-13   \n",
       "2         ...                         994.0  English       UK           PG-13   \n",
       "3         ...                        2701.0  English      USA           PG-13   \n",
       "4         ...                           NaN      NaN      NaN             NaN   \n",
       "\n",
       "        budget  title_year actor_2_facebook_likes imdb_score  aspect_ratio  \\\n",
       "0  237000000.0      2009.0                  936.0        7.9          1.78   \n",
       "1  300000000.0      2007.0                 5000.0        7.1          2.35   \n",
       "2  245000000.0      2015.0                  393.0        6.8          2.35   \n",
       "3  250000000.0      2012.0                23000.0        8.5          2.35   \n",
       "4          NaN         NaN                   12.0        7.1           NaN   \n",
       "\n",
       "  movie_facebook_likes  \n",
       "0                33000  \n",
       "1                    0  \n",
       "2                85000  \n",
       "3               164000  \n",
       "4                    0  \n",
       "\n",
       "[5 rows x 28 columns]"
      ]
     },
     "execution_count": 7,
     "metadata": {},
     "output_type": "execute_result"
    }
   ],
   "source": [
    "data.head()"
   ]
  },
  {
   "cell_type": "markdown",
   "metadata": {},
   "source": [
    "## EDA"
   ]
  },
  {
   "cell_type": "code",
   "execution_count": 8,
   "metadata": {},
   "outputs": [
    {
     "name": "stderr",
     "output_type": "stream",
     "text": [
      "C:\\Users\\mvkum\\Anaconda3\\lib\\site-packages\\matplotlib\\axes\\_axes.py:6462: UserWarning:\n",
      "\n",
      "The 'normed' kwarg is deprecated, and has been replaced by the 'density' kwarg.\n",
      "\n"
     ]
    },
    {
     "data": {
      "text/plain": [
       "<seaborn.axisgrid.JointGrid at 0x26a801103c8>"
      ]
     },
     "execution_count": 8,
     "metadata": {},
     "output_type": "execute_result"
    },
    {
     "data": {
      "image/png": "[encoded data removed]",
      "text/plain": [
       "<Figure size 432x432 with 3 Axes>"
      ]
     },
     "metadata": {},
     "output_type": "display_data"
    }
   ],
   "source": [
    "#Joint plot shows the pearson correlation and the trend in the data\n",
    "sns.jointplot(x='imdb_score',y='gross',data=data,color='purple')"
   ]
  },
  {
   "cell_type": "code",
   "execution_count": 9,
   "metadata": {},
   "outputs": [
    {
     "data": {
      "text/plain": [
       "<matplotlib.axes._subplots.AxesSubplot at 0x26a80429eb8>"
      ]
     },
     "execution_count": 9,
     "metadata": {},
     "output_type": "execute_result"
    },
    {
     "data": {
      "image/png": "[encoded data removed]",
      "text/plain": [
       "<Figure size 432x288 with 1 Axes>"
      ]
     },
     "metadata": {},
     "output_type": "display_data"
    }
   ],
   "source": [
    "#Histogram shows the distribution of the data, It shows most of the ratings are in between the range 6-8\n",
    "data['imdb_score'].plot.hist()"
   ]
  },
  {
   "cell_type": "markdown",
   "metadata": {},
   "source": [
    "# Kernel density estimation"
   ]
  },
  {
   "cell_type": "code",
   "execution_count": 64,
   "metadata": {},
   "outputs": [
    {
     "name": "stderr",
     "output_type": "stream",
     "text": [
      "C:\\Users\\mvkum\\Anaconda3\\lib\\site-packages\\statsmodels\\nonparametric\\kde.py:454: RuntimeWarning:\n",
      "\n",
      "invalid value encountered in greater\n",
      "\n",
      "C:\\Users\\mvkum\\Anaconda3\\lib\\site-packages\\statsmodels\\nonparametric\\kde.py:454: RuntimeWarning:\n",
      "\n",
      "invalid value encountered in less\n",
      "\n"
     ]
    },
    {
     "data": {
      "text/plain": [
       "<matplotlib.axes._subplots.AxesSubplot at 0x26a81ed4550>"
      ]
     },
     "execution_count": 64,
     "metadata": {},
     "output_type": "execute_result"
    },
    {
     "data": {
      "image/png": "[encoded data removed]",
      "text/plain": [
       "<Figure size 432x288 with 1 Axes>"
      ]
     },
     "metadata": {},
     "output_type": "display_data"
    }
   ],
   "source": [
    "# KDE plot shows the distribution of movies through the years\n",
    "ser = pd.Series(data['title_year'])\n",
    "sns.kdeplot(ser)"
   ]
  },
  {
   "cell_type": "markdown",
   "metadata": {},
   "source": [
    "# Correlation Plot"
   ]
  },
  {
   "cell_type": "code",
   "execution_count": 10,
   "metadata": {},
   "outputs": [
    {
     "data": {
      "text/plain": [
       "<matplotlib.axes._subplots.AxesSubplot at 0x26a804daeb8>"
      ]
     },
     "execution_count": 10,
     "metadata": {},
     "output_type": "execute_result"
    },
    {
     "data": {
      "image/png": "[encoded data removed]",
      "text/plain": [
       "<Figure size 864x432 with 2 Axes>"
      ]
     },
     "metadata": {},
     "output_type": "display_data"
    }
   ],
   "source": [
    "plt.figure(figsize=(12,6))\n",
    "sns.heatmap(data.corr(), vmax=1, square=True, cmap='plasma')"
   ]
  },
  {
   "cell_type": "markdown",
   "metadata": {},
   "source": [
    "# Data Manipulation and Cleaning"
   ]
  },
  {
   "cell_type": "code",
   "execution_count": 12,
   "metadata": {
    "collapsed": true
   },
   "outputs": [],
   "source": [
    "## Color can be a numerical feature as its binary\n",
    "from sklearn.preprocessing import LabelEncoder\n",
    "num=LabelEncoder()\n",
    "data['colorclass']=num.fit_transform(data['color'].astype(str))"
   ]
  },
  {
   "cell_type": "code",
   "execution_count": 13,
   "metadata": {
    "collapsed": true
   },
   "outputs": [],
   "source": [
    "#saving the original file\n",
    "df=pd.DataFrame(data)"
   ]
  },
  {
   "cell_type": "code",
   "execution_count": 58,
   "metadata": {
    "collapsed": true
   },
   "outputs": [],
   "source": [
    "## Manipulating the missing data with the help of mean\n",
    "df=df.fillna(df.mean())"
   ]
  },
  {
   "cell_type": "code",
   "execution_count": 60,
   "metadata": {},
   "outputs": [
    {
     "data": {
      "text/html": [
       "<div>\n",
       "<style>\n",
       "    .dataframe thead tr:only-child th {\n",
       "        text-align: right;\n",
       "    }\n",
       "\n",
       "    .dataframe thead th {\n",
       "        text-align: left;\n",
       "    }\n",
       "\n",
       "    .dataframe tbody tr th {\n",
       "        vertical-align: top;\n",
       "    }\n",
       "</style>\n",
       "<table border=\"1\" class=\"dataframe\">\n",
       "  <thead>\n",
       "    <tr style=\"text-align: right;\">\n",
       "      <th></th>\n",
       "      <th>count</th>\n",
       "      <th>mean</th>\n",
       "      <th>std</th>\n",
       "      <th>min</th>\n",
       "      <th>25%</th>\n",
       "      <th>50%</th>\n",
       "      <th>75%</th>\n",
       "      <th>max</th>\n",
       "    </tr>\n",
       "  </thead>\n",
       "  <tbody>\n",
       "    <tr>\n",
       "      <th>num_critic_for_reviews</th>\n",
       "      <td>5043.0</td>\n",
       "      <td>1.401943e+02</td>\n",
       "      <td>1.209972e+02</td>\n",
       "      <td>1.00</td>\n",
       "      <td>50.00</td>\n",
       "      <td>1.110000e+02</td>\n",
       "      <td>194.00</td>\n",
       "      <td>8.130000e+02</td>\n",
       "    </tr>\n",
       "    <tr>\n",
       "      <th>duration</th>\n",
       "      <td>5043.0</td>\n",
       "      <td>1.072011e+02</td>\n",
       "      <td>2.515993e+01</td>\n",
       "      <td>7.00</td>\n",
       "      <td>93.00</td>\n",
       "      <td>1.030000e+02</td>\n",
       "      <td>118.00</td>\n",
       "      <td>5.110000e+02</td>\n",
       "    </tr>\n",
       "    <tr>\n",
       "      <th>director_facebook_likes</th>\n",
       "      <td>5043.0</td>\n",
       "      <td>6.865092e+02</td>\n",
       "      <td>2.784163e+03</td>\n",
       "      <td>0.00</td>\n",
       "      <td>7.00</td>\n",
       "      <td>5.200000e+01</td>\n",
       "      <td>218.00</td>\n",
       "      <td>2.300000e+04</td>\n",
       "    </tr>\n",
       "    <tr>\n",
       "      <th>actor_3_facebook_likes</th>\n",
       "      <td>5043.0</td>\n",
       "      <td>6.450098e+02</td>\n",
       "      <td>1.661240e+03</td>\n",
       "      <td>0.00</td>\n",
       "      <td>134.50</td>\n",
       "      <td>3.740000e+02</td>\n",
       "      <td>638.00</td>\n",
       "      <td>2.300000e+04</td>\n",
       "    </tr>\n",
       "    <tr>\n",
       "      <th>actor_1_facebook_likes</th>\n",
       "      <td>5043.0</td>\n",
       "      <td>6.560047e+03</td>\n",
       "      <td>1.501033e+04</td>\n",
       "      <td>0.00</td>\n",
       "      <td>615.50</td>\n",
       "      <td>9.890000e+02</td>\n",
       "      <td>11000.00</td>\n",
       "      <td>6.400000e+05</td>\n",
       "    </tr>\n",
       "    <tr>\n",
       "      <th>gross</th>\n",
       "      <td>5043.0</td>\n",
       "      <td>4.846841e+07</td>\n",
       "      <td>6.216318e+07</td>\n",
       "      <td>162.00</td>\n",
       "      <td>8460992.50</td>\n",
       "      <td>3.743230e+07</td>\n",
       "      <td>51357065.50</td>\n",
       "      <td>7.605058e+08</td>\n",
       "    </tr>\n",
       "    <tr>\n",
       "      <th>num_voted_users</th>\n",
       "      <td>5043.0</td>\n",
       "      <td>8.366816e+04</td>\n",
       "      <td>1.384853e+05</td>\n",
       "      <td>5.00</td>\n",
       "      <td>8593.50</td>\n",
       "      <td>3.435900e+04</td>\n",
       "      <td>96309.00</td>\n",
       "      <td>1.689764e+06</td>\n",
       "    </tr>\n",
       "    <tr>\n",
       "      <th>cast_total_facebook_likes</th>\n",
       "      <td>5043.0</td>\n",
       "      <td>9.699064e+03</td>\n",
       "      <td>1.816380e+04</td>\n",
       "      <td>0.00</td>\n",
       "      <td>1411.00</td>\n",
       "      <td>3.090000e+03</td>\n",
       "      <td>13756.50</td>\n",
       "      <td>6.567300e+05</td>\n",
       "    </tr>\n",
       "    <tr>\n",
       "      <th>facenumber_in_poster</th>\n",
       "      <td>5043.0</td>\n",
       "      <td>1.371173e+00</td>\n",
       "      <td>2.010978e+00</td>\n",
       "      <td>0.00</td>\n",
       "      <td>0.00</td>\n",
       "      <td>1.000000e+00</td>\n",
       "      <td>2.00</td>\n",
       "      <td>4.300000e+01</td>\n",
       "    </tr>\n",
       "    <tr>\n",
       "      <th>num_user_for_reviews</th>\n",
       "      <td>5043.0</td>\n",
       "      <td>2.727708e+02</td>\n",
       "      <td>3.771949e+02</td>\n",
       "      <td>1.00</td>\n",
       "      <td>65.00</td>\n",
       "      <td>1.570000e+02</td>\n",
       "      <td>324.00</td>\n",
       "      <td>5.060000e+03</td>\n",
       "    </tr>\n",
       "    <tr>\n",
       "      <th>budget</th>\n",
       "      <td>5043.0</td>\n",
       "      <td>3.975262e+07</td>\n",
       "      <td>1.958004e+08</td>\n",
       "      <td>218.00</td>\n",
       "      <td>7000000.00</td>\n",
       "      <td>2.300000e+07</td>\n",
       "      <td>40000000.00</td>\n",
       "      <td>1.221550e+10</td>\n",
       "    </tr>\n",
       "    <tr>\n",
       "      <th>title_year</th>\n",
       "      <td>5043.0</td>\n",
       "      <td>2.002471e+03</td>\n",
       "      <td>1.234027e+01</td>\n",
       "      <td>1916.00</td>\n",
       "      <td>1999.00</td>\n",
       "      <td>2.005000e+03</td>\n",
       "      <td>2011.00</td>\n",
       "      <td>2.016000e+03</td>\n",
       "    </tr>\n",
       "    <tr>\n",
       "      <th>actor_2_facebook_likes</th>\n",
       "      <td>5043.0</td>\n",
       "      <td>1.651754e+03</td>\n",
       "      <td>4.037224e+03</td>\n",
       "      <td>0.00</td>\n",
       "      <td>281.00</td>\n",
       "      <td>5.960000e+02</td>\n",
       "      <td>919.00</td>\n",
       "      <td>1.370000e+05</td>\n",
       "    </tr>\n",
       "    <tr>\n",
       "      <th>imdb_score</th>\n",
       "      <td>5043.0</td>\n",
       "      <td>6.442138e+00</td>\n",
       "      <td>1.125116e+00</td>\n",
       "      <td>1.60</td>\n",
       "      <td>5.80</td>\n",
       "      <td>6.600000e+00</td>\n",
       "      <td>7.20</td>\n",
       "      <td>9.500000e+00</td>\n",
       "    </tr>\n",
       "    <tr>\n",
       "      <th>aspect_ratio</th>\n",
       "      <td>5043.0</td>\n",
       "      <td>2.220403e+00</td>\n",
       "      <td>1.339160e+00</td>\n",
       "      <td>1.18</td>\n",
       "      <td>1.85</td>\n",
       "      <td>2.220403e+00</td>\n",
       "      <td>2.35</td>\n",
       "      <td>1.600000e+01</td>\n",
       "    </tr>\n",
       "    <tr>\n",
       "      <th>movie_facebook_likes</th>\n",
       "      <td>5043.0</td>\n",
       "      <td>7.525965e+03</td>\n",
       "      <td>1.932045e+04</td>\n",
       "      <td>0.00</td>\n",
       "      <td>0.00</td>\n",
       "      <td>1.660000e+02</td>\n",
       "      <td>3000.00</td>\n",
       "      <td>3.490000e+05</td>\n",
       "    </tr>\n",
       "    <tr>\n",
       "      <th>colorclass</th>\n",
       "      <td>5043.0</td>\n",
       "      <td>9.623240e-01</td>\n",
       "      <td>2.092854e-01</td>\n",
       "      <td>0.00</td>\n",
       "      <td>1.00</td>\n",
       "      <td>1.000000e+00</td>\n",
       "      <td>1.00</td>\n",
       "      <td>2.000000e+00</td>\n",
       "    </tr>\n",
       "  </tbody>\n",
       "</table>\n",
       "</div>"
      ],
      "text/plain": [
       "                            count          mean           std      min  \\\n",
       "num_critic_for_reviews     5043.0  1.401943e+02  1.209972e+02     1.00   \n",
       "duration                   5043.0  1.072011e+02  2.515993e+01     7.00   \n",
       "director_facebook_likes    5043.0  6.865092e+02  2.784163e+03     0.00   \n",
       "actor_3_facebook_likes     5043.0  6.450098e+02  1.661240e+03     0.00   \n",
       "actor_1_facebook_likes     5043.0  6.560047e+03  1.501033e+04     0.00   \n",
       "gross                      5043.0  4.846841e+07  6.216318e+07   162.00   \n",
       "num_voted_users            5043.0  8.366816e+04  1.384853e+05     5.00   \n",
       "cast_total_facebook_likes  5043.0  9.699064e+03  1.816380e+04     0.00   \n",
       "facenumber_in_poster       5043.0  1.371173e+00  2.010978e+00     0.00   \n",
       "num_user_for_reviews       5043.0  2.727708e+02  3.771949e+02     1.00   \n",
       "budget                     5043.0  3.975262e+07  1.958004e+08   218.00   \n",
       "title_year                 5043.0  2.002471e+03  1.234027e+01  1916.00   \n",
       "actor_2_facebook_likes     5043.0  1.651754e+03  4.037224e+03     0.00   \n",
       "imdb_score                 5043.0  6.442138e+00  1.125116e+00     1.60   \n",
       "aspect_ratio               5043.0  2.220403e+00  1.339160e+00     1.18   \n",
       "movie_facebook_likes       5043.0  7.525965e+03  1.932045e+04     0.00   \n",
       "colorclass                 5043.0  9.623240e-01  2.092854e-01     0.00   \n",
       "\n",
       "                                  25%           50%          75%           max  \n",
       "num_critic_for_reviews          50.00  1.110000e+02       194.00  8.130000e+02  \n",
       "duration                        93.00  1.030000e+02       118.00  5.110000e+02  \n",
       "director_facebook_likes          7.00  5.200000e+01       218.00  2.300000e+04  \n",
       "actor_3_facebook_likes         134.50  3.740000e+02       638.00  2.300000e+04  \n",
       "actor_1_facebook_likes         615.50  9.890000e+02     11000.00  6.400000e+05  \n",
       "gross                      8460992.50  3.743230e+07  51357065.50  7.605058e+08  \n",
       "num_voted_users               8593.50  3.435900e+04     96309.00  1.689764e+06  \n",
       "cast_total_facebook_likes     1411.00  3.090000e+03     13756.50  6.567300e+05  \n",
       "facenumber_in_poster             0.00  1.000000e+00         2.00  4.300000e+01  \n",
       "num_user_for_reviews            65.00  1.570000e+02       324.00  5.060000e+03  \n",
       "budget                     7000000.00  2.300000e+07  40000000.00  1.221550e+10  \n",
       "title_year                    1999.00  2.005000e+03      2011.00  2.016000e+03  \n",
       "actor_2_facebook_likes         281.00  5.960000e+02       919.00  1.370000e+05  \n",
       "imdb_score                       5.80  6.600000e+00         7.20  9.500000e+00  \n",
       "aspect_ratio                     1.85  2.220403e+00         2.35  1.600000e+01  \n",
       "movie_facebook_likes             0.00  1.660000e+02      3000.00  3.490000e+05  \n",
       "colorclass                       1.00  1.000000e+00         1.00  2.000000e+00  "
      ]
     },
     "execution_count": 60,
     "metadata": {},
     "output_type": "execute_result"
    }
   ],
   "source": [
    "df.describe().transpose()"
   ]
  },
  {
   "cell_type": "code",
   "execution_count": 33,
   "metadata": {},
   "outputs": [
    {
     "data": {
      "text/plain": [
       "color                         19\n",
       "director_name                104\n",
       "num_critic_for_reviews         0\n",
       "duration                       0\n",
       "director_facebook_likes        0\n",
       "actor_3_facebook_likes         0\n",
       "actor_2_name                  13\n",
       "actor_1_facebook_likes         0\n",
       "gross                          0\n",
       "genres                         0\n",
       "actor_1_name                   7\n",
       "movie_title                    0\n",
       "num_voted_users                0\n",
       "cast_total_facebook_likes      0\n",
       "actor_3_name                  23\n",
       "facenumber_in_poster           0\n",
       "plot_keywords                153\n",
       "movie_imdb_link                0\n",
       "num_user_for_reviews           0\n",
       "language                      12\n",
       "country                        5\n",
       "content_rating               303\n",
       "budget                         0\n",
       "title_year                     0\n",
       "actor_2_facebook_likes         0\n",
       "imdb_score                     0\n",
       "aspect_ratio                   0\n",
       "movie_facebook_likes           0\n",
       "colorclass                     0\n",
       "dtype: int64"
      ]
     },
     "execution_count": 33,
     "metadata": {},
     "output_type": "execute_result"
    }
   ],
   "source": [
    "df.isnull().sum()"
   ]
  },
  {
   "cell_type": "code",
   "execution_count": 15,
   "metadata": {
    "collapsed": true
   },
   "outputs": [],
   "source": [
    "## Feature selection ( no stepwise selection or backward elimination \n",
    "##was done only the numerical value are taken)\n",
    "features = ['actor_3_facebook_likes', 'actor_1_facebook_likes', 'gross',\n",
    "       'num_voted_users', 'cast_total_facebook_likes', 'facenumber_in_poster',\n",
    "       'num_user_for_reviews', 'budget', 'title_year',\n",
    "       'actor_2_facebook_likes', 'aspect_ratio',\n",
    "       'movie_facebook_likes','colorclass']\n",
    "target = ['imdb_score']"
   ]
  },
  {
   "cell_type": "code",
   "execution_count": 42,
   "metadata": {
    "collapsed": true
   },
   "outputs": [],
   "source": [
    "\n",
    "X_train=df[features]\n",
    "y_val=df[target]"
   ]
  },
  {
   "cell_type": "code",
   "execution_count": 43,
   "metadata": {},
   "outputs": [
    {
     "data": {
      "text/plain": [
       "(5043, 1)"
      ]
     },
     "execution_count": 43,
     "metadata": {},
     "output_type": "execute_result"
    }
   ],
   "source": [
    "y_val.shape"
   ]
  },
  {
   "cell_type": "code",
   "execution_count": 44,
   "metadata": {
    "collapsed": true
   },
   "outputs": [],
   "source": [
    "from sklearn.model_selection import train_test_split"
   ]
  },
  {
   "cell_type": "code",
   "execution_count": 45,
   "metadata": {
    "collapsed": true
   },
   "outputs": [],
   "source": [
    "X_train, X_test, y_train, y_test = train_test_split(X_train,y_val,test_size=0.3,random_state=101)"
   ]
  },
  {
   "cell_type": "markdown",
   "metadata": {},
   "source": [
    "## Importing library for linear regression"
   ]
  },
  {
   "cell_type": "code",
   "execution_count": 46,
   "metadata": {},
   "outputs": [
    {
     "data": {
      "text/plain": [
       "LinearRegression(copy_X=True, fit_intercept=True, n_jobs=1, normalize=False)"
      ]
     },
     "execution_count": 46,
     "metadata": {},
     "output_type": "execute_result"
    }
   ],
   "source": [
    "from sklearn import linear_model\n",
    "lm = linear_model.LinearRegression()\n",
    "from sklearn import metrics \n",
    "lm.fit (X_train, y_train)"
   ]
  },
  {
   "cell_type": "code",
   "execution_count": 48,
   "metadata": {
    "collapsed": true
   },
   "outputs": [],
   "source": [
    "score_train = lm.score(X_test, y_test)\n",
    "score_test = lm.score(X_train, y_train)"
   ]
  },
  {
   "cell_type": "markdown",
   "metadata": {},
   "source": [
    "# Accuracy"
   ]
  },
  {
   "cell_type": "code",
   "execution_count": 50,
   "metadata": {},
   "outputs": [
    {
     "name": "stdout",
     "output_type": "stream",
     "text": [
      "Training score:  0.235645097826\n",
      "Testing score:  0.260789875458\n"
     ]
    }
   ],
   "source": [
    "print(\"Training score: \",score_train)\n",
    "print(\"Testing score: \",score_test)"
   ]
  },
  {
   "cell_type": "markdown",
   "metadata": {},
   "source": [
    "## Evaluation metric RMSE"
   ]
  },
  {
   "cell_type": "code",
   "execution_count": 52,
   "metadata": {
    "collapsed": true
   },
   "outputs": [],
   "source": [
    "from sklearn.metrics import mean_squared_error"
   ]
  },
  {
   "cell_type": "code",
   "execution_count": 54,
   "metadata": {
    "collapsed": true
   },
   "outputs": [],
   "source": [
    "y_pred=lm.predict(X_test)"
   ]
  },
  {
   "cell_type": "code",
   "execution_count": 56,
   "metadata": {},
   "outputs": [
    {
     "data": {
      "text/plain": [
       "1.0057183404559984"
      ]
     },
     "execution_count": 56,
     "metadata": {},
     "output_type": "execute_result"
    }
   ],
   "source": [
    "np.sqrt(mean_squared_error(y_test,y_pred))"
   ]
  },
  {
   "cell_type": "code",
   "execution_count": null,
   "metadata": {
    "collapsed": true
   },
   "outputs": [],
   "source": [
    "## Other models such as KNN and support vector machine \n",
    "##was run but the accuracy was not increasing"
   ]
  },
  {
   "cell_type": "markdown",
   "metadata": {
    "collapsed": true
   },
   "source": [
    "# TensorFlow"
   ]
  },
  {
   "cell_type": "code",
   "execution_count": 92,
   "metadata": {
    "collapsed": true
   },
   "outputs": [],
   "source": [
    "X_train=df[features]\n",
    "y_val=df[target]"
   ]
  },
  {
   "cell_type": "code",
   "execution_count": 93,
   "metadata": {
    "collapsed": true
   },
   "outputs": [],
   "source": [
    "from sklearn.model_selection import train_test_split"
   ]
  },
  {
   "cell_type": "code",
   "execution_count": 94,
   "metadata": {
    "collapsed": true
   },
   "outputs": [],
   "source": [
    "X_train, X_test, y_train, y_test = train_test_split(X_train,y_val,test_size=0.3,random_state=101)"
   ]
  },
  {
   "cell_type": "code",
   "execution_count": 95,
   "metadata": {
    "collapsed": true
   },
   "outputs": [],
   "source": [
    "##Importing library for Data Scaling(Normalization)\n",
    "from sklearn.preprocessing import MinMaxScaler"
   ]
  },
  {
   "cell_type": "code",
   "execution_count": 96,
   "metadata": {
    "collapsed": true
   },
   "outputs": [],
   "source": [
    "scaler = MinMaxScaler()"
   ]
  },
  {
   "cell_type": "code",
   "execution_count": 97,
   "metadata": {},
   "outputs": [
    {
     "data": {
      "text/plain": [
       "MinMaxScaler(copy=True, feature_range=(0, 1))"
      ]
     },
     "execution_count": 97,
     "metadata": {},
     "output_type": "execute_result"
    }
   ],
   "source": [
    "scaler.fit(X_train)"
   ]
  },
  {
   "cell_type": "code",
   "execution_count": 98,
   "metadata": {
    "collapsed": true
   },
   "outputs": [],
   "source": [
    "X_train = pd.DataFrame(data=scaler.transform(X_train),columns = X_train.columns,index=X_train.index)"
   ]
  },
  {
   "cell_type": "code",
   "execution_count": 99,
   "metadata": {
    "collapsed": true
   },
   "outputs": [],
   "source": [
    "X_test = pd.DataFrame(data=scaler.transform(X_test),columns = X_test.columns,index=X_test.index)"
   ]
  },
  {
   "cell_type": "code",
   "execution_count": null,
   "metadata": {
    "collapsed": true
   },
   "outputs": [],
   "source": [
    "#importing tensorflow libraries"
   ]
  },
  {
   "cell_type": "code",
   "execution_count": 100,
   "metadata": {
    "collapsed": true
   },
   "outputs": [],
   "source": [
    "import tensorflow as tf"
   ]
  },
  {
   "cell_type": "code",
   "execution_count": 101,
   "metadata": {},
   "outputs": [
    {
     "data": {
      "text/plain": [
       "Index(['actor_3_facebook_likes', 'actor_1_facebook_likes', 'gross',\n",
       "       'num_voted_users', 'cast_total_facebook_likes', 'facenumber_in_poster',\n",
       "       'num_user_for_reviews', 'budget', 'title_year',\n",
       "       'actor_2_facebook_likes', 'aspect_ratio', 'movie_facebook_likes',\n",
       "       'colorclass'],\n",
       "      dtype='object')"
      ]
     },
     "execution_count": 101,
     "metadata": {},
     "output_type": "execute_result"
    }
   ],
   "source": [
    "X_train.columns"
   ]
  },
  {
   "cell_type": "code",
   "execution_count": 73,
   "metadata": {
    "collapsed": true
   },
   "outputs": [],
   "source": [
    "##Defining the features as numeric, categorical or string in this case only numerical"
   ]
  },
  {
   "cell_type": "code",
   "execution_count": 102,
   "metadata": {
    "collapsed": true
   },
   "outputs": [],
   "source": [
    "actor_3_facebook_likes = tf.feature_column.numeric_column('actor_3_facebook_likes')\n",
    "actor_1_facebook_likes = tf.feature_column.numeric_column('actor_1_facebook_likes')\n",
    "gross = tf.feature_column.numeric_column('gross')\n",
    "cast_total_facebook_likes= tf.feature_column.numeric_column('cast_total_facebook_likes')\n",
    "facenumber_in_poster = tf.feature_column.numeric_column('facenumber_in_poster')\n",
    "num_user_for_reviews = tf.feature_column.numeric_column('num_user_for_reviews')\n",
    "title_year = tf.feature_column.numeric_column('title_year')\n",
    "actor_2_facebook_likes = tf.feature_column.numeric_column('actor_2_facebook_likes')\n",
    "aspect_ratio = tf.feature_column.numeric_column('aspect_ratio')\n",
    "movie_facebook_likes = tf.feature_column.numeric_column('movie_facebook_likes')\n",
    "colorclass = tf.feature_column.numeric_column('colorclass')\n",
    "num_voted_users = tf.feature_column.numeric_column('num_voted_users')\n",
    "budget=tf.feature_column.numeric_column('budget')"
   ]
  },
  {
   "cell_type": "code",
   "execution_count": 103,
   "metadata": {
    "collapsed": true
   },
   "outputs": [],
   "source": [
    "feat_cols=[actor_3_facebook_likes, actor_1_facebook_likes, gross,num_voted_users, cast_total_facebook_likes, facenumber_in_poster,\n",
    "       num_user_for_reviews, budget, title_year,actor_2_facebook_likes, aspect_ratio, movie_facebook_likes,\n",
    "       colorclass]\n"
   ]
  },
  {
   "cell_type": "code",
   "execution_count": null,
   "metadata": {
    "collapsed": true
   },
   "outputs": [],
   "source": [
    "# Defining the model"
   ]
  },
  {
   "cell_type": "code",
   "execution_count": 104,
   "metadata": {
    "collapsed": true
   },
   "outputs": [],
   "source": [
    "input_func = tf.estimator.inputs.pandas_input_fn(x=X_train,y=y_train ,batch_size=10,num_epochs=1000,\n",
    "                                            shuffle=True)"
   ]
  },
  {
   "cell_type": "code",
   "execution_count": null,
   "metadata": {
    "collapsed": true
   },
   "outputs": [],
   "source": [
    "# Fitting the defined model tried linear regressor and dense regressor but linear has better "
   ]
  },
  {
   "cell_type": "code",
   "execution_count": 129,
   "metadata": {},
   "outputs": [
    {
     "name": "stdout",
     "output_type": "stream",
     "text": [
      "INFO:tensorflow:Using default config.\n",
      "WARNING:tensorflow:Using temporary folder as model directory: C:\\Users\\mvkum\\AppData\\Local\\Temp\\tmpni41xa53\n",
      "INFO:tensorflow:Using config: {'_model_dir': 'C:\\\\Users\\\\mvkum\\\\AppData\\\\Local\\\\Temp\\\\tmpni41xa53', '_tf_random_seed': None, '_save_summary_steps': 100, '_save_checkpoints_steps': None, '_save_checkpoints_secs': 600, '_session_config': None, '_keep_checkpoint_max': 5, '_keep_checkpoint_every_n_hours': 10000, '_log_step_count_steps': 100, '_train_distribute': None, '_device_fn': None, '_service': None, '_cluster_spec': <tensorflow.python.training.server_lib.ClusterSpec object at 0x0000026A8847B358>, '_task_type': 'worker', '_task_id': 0, '_global_id_in_cluster': 0, '_master': '', '_evaluation_master': '', '_is_chief': True, '_num_ps_replicas': 0, '_num_worker_replicas': 1}\n"
     ]
    }
   ],
   "source": [
    "model = tf.estimator.LinearRegressor(feature_columns=feat_cols)"
   ]
  },
  {
   "cell_type": "code",
   "execution_count": 130,
   "metadata": {},
   "outputs": [
    {
     "name": "stdout",
     "output_type": "stream",
     "text": [
      "INFO:tensorflow:Calling model_fn.\n",
      "INFO:tensorflow:Done calling model_fn.\n",
      "INFO:tensorflow:Create CheckpointSaverHook.\n",
      "INFO:tensorflow:Graph was finalized.\n",
      "INFO:tensorflow:Running local_init_op.\n",
      "INFO:tensorflow:Done running local_init_op.\n",
      "INFO:tensorflow:Saving checkpoints for 0 into C:\\Users\\mvkum\\AppData\\Local\\Temp\\tmpni41xa53\\model.ckpt.\n",
      "INFO:tensorflow:loss = 405.83, step = 1\n",
      "INFO:tensorflow:global_step/sec: 302.916\n",
      "INFO:tensorflow:loss = 20.8635, step = 101 (0.335 sec)\n",
      "INFO:tensorflow:global_step/sec: 399.472\n",
      "INFO:tensorflow:loss = 40.3285, step = 201 (0.249 sec)\n",
      "INFO:tensorflow:global_step/sec: 356.823\n",
      "INFO:tensorflow:loss = 21.7997, step = 301 (0.281 sec)\n",
      "INFO:tensorflow:global_step/sec: 407.591\n",
      "INFO:tensorflow:loss = 5.54156, step = 401 (0.246 sec)\n",
      "INFO:tensorflow:global_step/sec: 407.59\n",
      "INFO:tensorflow:loss = 2.4922, step = 501 (0.244 sec)\n",
      "INFO:tensorflow:global_step/sec: 472.961\n",
      "INFO:tensorflow:loss = 9.68043, step = 601 (0.213 sec)\n",
      "INFO:tensorflow:global_step/sec: 351.816\n",
      "INFO:tensorflow:loss = 31.6405, step = 701 (0.280 sec)\n",
      "INFO:tensorflow:global_step/sec: 459.942\n",
      "INFO:tensorflow:loss = 21.3541, step = 801 (0.219 sec)\n",
      "INFO:tensorflow:global_step/sec: 424.861\n",
      "INFO:tensorflow:loss = 10.6338, step = 901 (0.238 sec)\n",
      "INFO:tensorflow:global_step/sec: 369.993\n",
      "INFO:tensorflow:loss = 14.8296, step = 1001 (0.267 sec)\n",
      "INFO:tensorflow:global_step/sec: 384.164\n",
      "INFO:tensorflow:loss = 11.06, step = 1101 (0.258 sec)\n",
      "INFO:tensorflow:global_step/sec: 405.944\n",
      "INFO:tensorflow:loss = 14.7076, step = 1201 (0.248 sec)\n",
      "INFO:tensorflow:global_step/sec: 355.55\n",
      "INFO:tensorflow:loss = 12.8925, step = 1301 (0.283 sec)\n",
      "INFO:tensorflow:global_step/sec: 441.717\n",
      "INFO:tensorflow:loss = 20.5912, step = 1401 (0.223 sec)\n",
      "INFO:tensorflow:global_step/sec: 435.948\n",
      "INFO:tensorflow:loss = 9.28106, step = 1501 (0.229 sec)\n",
      "INFO:tensorflow:global_step/sec: 287.298\n",
      "INFO:tensorflow:loss = 34.0137, step = 1601 (0.348 sec)\n",
      "INFO:tensorflow:global_step/sec: 368.632\n",
      "INFO:tensorflow:loss = 16.3497, step = 1701 (0.270 sec)\n",
      "INFO:tensorflow:global_step/sec: 364.607\n",
      "INFO:tensorflow:loss = 7.7339, step = 1801 (0.278 sec)\n",
      "INFO:tensorflow:global_step/sec: 378.367\n",
      "INFO:tensorflow:loss = 15.3078, step = 1901 (0.262 sec)\n",
      "INFO:tensorflow:global_step/sec: 391.671\n",
      "INFO:tensorflow:loss = 17.3413, step = 2001 (0.252 sec)\n",
      "INFO:tensorflow:global_step/sec: 407.589\n",
      "INFO:tensorflow:loss = 10.1074, step = 2101 (0.251 sec)\n",
      "INFO:tensorflow:global_step/sec: 399.47\n",
      "INFO:tensorflow:loss = 7.30224, step = 2201 (0.246 sec)\n",
      "INFO:tensorflow:global_step/sec: 417.784\n",
      "INFO:tensorflow:loss = 25.1692, step = 2301 (0.240 sec)\n",
      "INFO:tensorflow:global_step/sec: 447.62\n",
      "INFO:tensorflow:loss = 8.02044, step = 2401 (0.224 sec)\n",
      "INFO:tensorflow:global_step/sec: 402.681\n",
      "INFO:tensorflow:loss = 5.98916, step = 2501 (0.248 sec)\n",
      "INFO:tensorflow:global_step/sec: 420.104\n",
      "INFO:tensorflow:loss = 4.168, step = 2601 (0.236 sec)\n",
      "INFO:tensorflow:global_step/sec: 407.541\n",
      "INFO:tensorflow:loss = 25.7204, step = 2701 (0.248 sec)\n",
      "INFO:tensorflow:global_step/sec: 408.858\n",
      "INFO:tensorflow:loss = 20.8655, step = 2801 (0.245 sec)\n",
      "INFO:tensorflow:global_step/sec: 439.086\n",
      "INFO:tensorflow:loss = 12.7308, step = 2901 (0.226 sec)\n",
      "INFO:tensorflow:global_step/sec: 396.315\n",
      "INFO:tensorflow:loss = 12.3592, step = 3001 (0.250 sec)\n",
      "INFO:tensorflow:global_step/sec: 412.4\n",
      "INFO:tensorflow:loss = 10.8242, step = 3101 (0.242 sec)\n",
      "INFO:tensorflow:global_step/sec: 441.706\n",
      "INFO:tensorflow:loss = 11.4153, step = 3201 (0.231 sec)\n",
      "INFO:tensorflow:global_step/sec: 449.628\n",
      "INFO:tensorflow:loss = 14.5064, step = 3301 (0.218 sec)\n",
      "INFO:tensorflow:global_step/sec: 432.189\n",
      "INFO:tensorflow:loss = 19.434, step = 3401 (0.233 sec)\n",
      "INFO:tensorflow:global_step/sec: 417.78\n",
      "INFO:tensorflow:loss = 12.1175, step = 3501 (0.236 sec)\n",
      "INFO:tensorflow:global_step/sec: 404.305\n",
      "INFO:tensorflow:loss = 14.5338, step = 3601 (0.248 sec)\n",
      "INFO:tensorflow:global_step/sec: 451.655\n",
      "INFO:tensorflow:loss = 4.44277, step = 3701 (0.223 sec)\n",
      "INFO:tensorflow:global_step/sec: 399.432\n",
      "INFO:tensorflow:loss = 14.7718, step = 3801 (0.250 sec)\n",
      "INFO:tensorflow:global_step/sec: 410.879\n",
      "INFO:tensorflow:loss = 11.6873, step = 3901 (0.242 sec)\n",
      "INFO:tensorflow:global_step/sec: 414.384\n",
      "INFO:tensorflow:loss = 11.7628, step = 4001 (0.239 sec)\n",
      "INFO:tensorflow:global_step/sec: 443.659\n",
      "INFO:tensorflow:loss = 12.7167, step = 4101 (0.226 sec)\n",
      "INFO:tensorflow:global_step/sec: 407.59\n",
      "INFO:tensorflow:loss = 12.3498, step = 4201 (0.247 sec)\n",
      "INFO:tensorflow:global_step/sec: 437.848\n",
      "INFO:tensorflow:loss = 19.8934, step = 4301 (0.226 sec)\n",
      "INFO:tensorflow:global_step/sec: 421.239\n",
      "INFO:tensorflow:loss = 14.5603, step = 4401 (0.238 sec)\n",
      "INFO:tensorflow:global_step/sec: 443.304\n",
      "INFO:tensorflow:loss = 14.8517, step = 4501 (0.225 sec)\n",
      "INFO:tensorflow:global_step/sec: 419.582\n",
      "INFO:tensorflow:loss = 20.1978, step = 4601 (0.238 sec)\n",
      "INFO:tensorflow:global_step/sec: 445.845\n",
      "INFO:tensorflow:loss = 14.8914, step = 4701 (0.223 sec)\n",
      "INFO:tensorflow:global_step/sec: 451.654\n",
      "INFO:tensorflow:loss = 5.49726, step = 4801 (0.222 sec)\n",
      "INFO:tensorflow:global_step/sec: 457.841\n",
      "INFO:tensorflow:loss = 18.3894, step = 4901 (0.220 sec)\n",
      "INFO:tensorflow:global_step/sec: 424.863\n",
      "INFO:tensorflow:loss = 5.79237, step = 5001 (0.233 sec)\n",
      "INFO:tensorflow:global_step/sec: 479.747\n",
      "INFO:tensorflow:loss = 14.503, step = 5101 (0.212 sec)\n",
      "INFO:tensorflow:global_step/sec: 412.622\n",
      "INFO:tensorflow:loss = 9.97227, step = 5201 (0.239 sec)\n",
      "INFO:tensorflow:global_step/sec: 482.056\n",
      "INFO:tensorflow:loss = 21.8362, step = 5301 (0.211 sec)\n",
      "INFO:tensorflow:global_step/sec: 464.199\n",
      "INFO:tensorflow:loss = 10.8061, step = 5401 (0.211 sec)\n",
      "INFO:tensorflow:global_step/sec: 449.568\n",
      "INFO:tensorflow:loss = 11.222, step = 5501 (0.221 sec)\n",
      "INFO:tensorflow:global_step/sec: 478.157\n",
      "INFO:tensorflow:loss = 12.0658, step = 5601 (0.213 sec)\n",
      "INFO:tensorflow:global_step/sec: 445.631\n",
      "INFO:tensorflow:loss = 12.4739, step = 5701 (0.225 sec)\n",
      "INFO:tensorflow:global_step/sec: 462.064\n",
      "INFO:tensorflow:loss = 20.1461, step = 5801 (0.213 sec)\n",
      "INFO:tensorflow:global_step/sec: 466.36\n",
      "INFO:tensorflow:loss = 8.69177, step = 5901 (0.215 sec)\n",
      "INFO:tensorflow:global_step/sec: 455.071\n",
      "INFO:tensorflow:loss = 17.6926, step = 6001 (0.217 sec)\n",
      "INFO:tensorflow:global_step/sec: 470.739\n",
      "INFO:tensorflow:loss = 6.45621, step = 6101 (0.215 sec)\n",
      "INFO:tensorflow:global_step/sec: 457.842\n",
      "INFO:tensorflow:loss = 5.63326, step = 6201 (0.217 sec)\n",
      "INFO:tensorflow:global_step/sec: 496.373\n",
      "INFO:tensorflow:loss = 11.9787, step = 6301 (0.204 sec)\n",
      "INFO:tensorflow:global_step/sec: 462.064\n",
      "INFO:tensorflow:loss = 13.4765, step = 6401 (0.216 sec)\n",
      "INFO:tensorflow:global_step/sec: 437.844\n",
      "INFO:tensorflow:loss = 10.4625, step = 6501 (0.225 sec)\n",
      "INFO:tensorflow:global_step/sec: 455.764\n",
      "INFO:tensorflow:loss = 29.3231, step = 6601 (0.217 sec)\n",
      "INFO:tensorflow:global_step/sec: 464.202\n",
      "INFO:tensorflow:loss = 9.89028, step = 6701 (0.217 sec)\n",
      "INFO:tensorflow:global_step/sec: 459.943\n",
      "INFO:tensorflow:loss = 8.03065, step = 6801 (0.216 sec)\n",
      "INFO:tensorflow:global_step/sec: 472.824\n",
      "INFO:tensorflow:loss = 25.807, step = 6901 (0.213 sec)\n",
      "INFO:tensorflow:global_step/sec: 439.768\n",
      "INFO:tensorflow:loss = 9.25116, step = 7001 (0.225 sec)\n",
      "INFO:tensorflow:global_step/sec: 484.387\n",
      "INFO:tensorflow:loss = 22.4087, step = 7101 (0.211 sec)\n",
      "INFO:tensorflow:global_step/sec: 479.748\n",
      "INFO:tensorflow:loss = 11.1268, step = 7201 (0.202 sec)\n",
      "INFO:tensorflow:global_step/sec: 482.057\n",
      "INFO:tensorflow:loss = 10.3675, step = 7301 (0.207 sec)\n",
      "INFO:tensorflow:global_step/sec: 477.461\n",
      "INFO:tensorflow:loss = 17.4632, step = 7401 (0.211 sec)\n",
      "INFO:tensorflow:global_step/sec: 466.293\n",
      "INFO:tensorflow:loss = 12.1698, step = 7501 (0.214 sec)\n",
      "INFO:tensorflow:global_step/sec: 484.456\n",
      "INFO:tensorflow:loss = 13.1499, step = 7601 (0.206 sec)\n",
      "INFO:tensorflow:global_step/sec: 462.059\n",
      "INFO:tensorflow:loss = 6.75684, step = 7701 (0.215 sec)\n",
      "INFO:tensorflow:global_step/sec: 462.065\n",
      "INFO:tensorflow:loss = 21.3305, step = 7801 (0.217 sec)\n",
      "INFO:tensorflow:global_step/sec: 457.839\n",
      "INFO:tensorflow:loss = 16.8831, step = 7901 (0.216 sec)\n",
      "INFO:tensorflow:global_step/sec: 445.634\n",
      "INFO:tensorflow:loss = 5.81271, step = 8001 (0.225 sec)\n",
      "INFO:tensorflow:global_step/sec: 475.204\n",
      "INFO:tensorflow:loss = 4.13106, step = 8101 (0.210 sec)\n"
     ]
    },
    {
     "name": "stdout",
     "output_type": "stream",
     "text": [
      "INFO:tensorflow:global_step/sec: 459.94\n",
      "INFO:tensorflow:loss = 4.65764, step = 8201 (0.220 sec)\n",
      "INFO:tensorflow:global_step/sec: 455.762\n",
      "INFO:tensorflow:loss = 10.9775, step = 8301 (0.217 sec)\n",
      "INFO:tensorflow:global_step/sec: 449.625\n",
      "INFO:tensorflow:loss = 12.3762, step = 8401 (0.226 sec)\n",
      "INFO:tensorflow:global_step/sec: 484.386\n",
      "INFO:tensorflow:loss = 10.5945, step = 8501 (0.200 sec)\n",
      "INFO:tensorflow:global_step/sec: 472.961\n",
      "INFO:tensorflow:loss = 3.17881, step = 8601 (0.214 sec)\n",
      "INFO:tensorflow:global_step/sec: 486.733\n",
      "INFO:tensorflow:loss = 16.898, step = 8701 (0.205 sec)\n",
      "INFO:tensorflow:global_step/sec: 489.109\n",
      "INFO:tensorflow:loss = 5.47789, step = 8801 (0.203 sec)\n",
      "INFO:tensorflow:global_step/sec: 470.743\n",
      "INFO:tensorflow:loss = 10.3577, step = 8901 (0.214 sec)\n",
      "INFO:tensorflow:global_step/sec: 503.856\n",
      "INFO:tensorflow:loss = 1.75691, step = 9001 (0.195 sec)\n",
      "INFO:tensorflow:global_step/sec: 493.926\n",
      "INFO:tensorflow:loss = 17.363, step = 9101 (0.204 sec)\n",
      "INFO:tensorflow:global_step/sec: 318.309\n",
      "INFO:tensorflow:loss = 3.61458, step = 9201 (0.311 sec)\n",
      "INFO:tensorflow:global_step/sec: 470.741\n",
      "INFO:tensorflow:loss = 11.6401, step = 9301 (0.216 sec)\n",
      "INFO:tensorflow:global_step/sec: 324.488\n",
      "INFO:tensorflow:loss = 10.2834, step = 9401 (0.304 sec)\n",
      "INFO:tensorflow:global_step/sec: 332.014\n",
      "INFO:tensorflow:loss = 15.212, step = 9501 (0.303 sec)\n",
      "INFO:tensorflow:global_step/sec: 501.336\n",
      "INFO:tensorflow:loss = 9.73457, step = 9601 (0.198 sec)\n",
      "INFO:tensorflow:global_step/sec: 486.735\n",
      "INFO:tensorflow:loss = 11.8073, step = 9701 (0.211 sec)\n",
      "INFO:tensorflow:global_step/sec: 457.842\n",
      "INFO:tensorflow:loss = 11.8332, step = 9801 (0.214 sec)\n",
      "INFO:tensorflow:global_step/sec: 491.503\n",
      "INFO:tensorflow:loss = 6.90132, step = 9901 (0.204 sec)\n",
      "INFO:tensorflow:global_step/sec: 475.205\n",
      "INFO:tensorflow:loss = 15.7071, step = 10001 (0.207 sec)\n",
      "INFO:tensorflow:global_step/sec: 516.837\n",
      "INFO:tensorflow:loss = 15.3246, step = 10101 (0.194 sec)\n",
      "INFO:tensorflow:global_step/sec: 484.388\n",
      "INFO:tensorflow:loss = 3.81888, step = 10201 (0.209 sec)\n",
      "INFO:tensorflow:global_step/sec: 470.739\n",
      "INFO:tensorflow:loss = 13.13, step = 10301 (0.209 sec)\n",
      "INFO:tensorflow:global_step/sec: 470.736\n",
      "INFO:tensorflow:loss = 6.01181, step = 10401 (0.211 sec)\n",
      "INFO:tensorflow:global_step/sec: 491.508\n",
      "INFO:tensorflow:loss = 7.92381, step = 10501 (0.205 sec)\n",
      "INFO:tensorflow:global_step/sec: 250.668\n",
      "INFO:tensorflow:loss = 8.29264, step = 10601 (0.402 sec)\n",
      "INFO:tensorflow:global_step/sec: 299.306\n",
      "INFO:tensorflow:loss = 3.41199, step = 10701 (0.327 sec)\n",
      "INFO:tensorflow:global_step/sec: 375.533\n",
      "INFO:tensorflow:loss = 11.4975, step = 10801 (0.271 sec)\n",
      "INFO:tensorflow:global_step/sec: 455.762\n",
      "INFO:tensorflow:loss = 10.3014, step = 10901 (0.218 sec)\n",
      "INFO:tensorflow:global_step/sec: 468.537\n",
      "INFO:tensorflow:loss = 5.09842, step = 11001 (0.210 sec)\n",
      "INFO:tensorflow:global_step/sec: 496.374\n",
      "INFO:tensorflow:loss = 9.87653, step = 11101 (0.204 sec)\n",
      "INFO:tensorflow:global_step/sec: 491.506\n",
      "INFO:tensorflow:loss = 12.5708, step = 11201 (0.202 sec)\n",
      "INFO:tensorflow:global_step/sec: 457.843\n",
      "INFO:tensorflow:loss = 17.2472, step = 11301 (0.221 sec)\n",
      "INFO:tensorflow:global_step/sec: 445.574\n",
      "INFO:tensorflow:loss = 2.79812, step = 11401 (0.220 sec)\n",
      "INFO:tensorflow:global_step/sec: 464.956\n",
      "INFO:tensorflow:loss = 24.4324, step = 11501 (0.215 sec)\n",
      "INFO:tensorflow:global_step/sec: 486.218\n",
      "INFO:tensorflow:loss = 12.1238, step = 11601 (0.203 sec)\n",
      "INFO:tensorflow:global_step/sec: 516.84\n",
      "INFO:tensorflow:loss = 6.23321, step = 11701 (0.194 sec)\n",
      "INFO:tensorflow:global_step/sec: 462.002\n",
      "INFO:tensorflow:loss = 11.1946, step = 11801 (0.217 sec)\n",
      "INFO:tensorflow:global_step/sec: 447.68\n",
      "INFO:tensorflow:loss = 26.7798, step = 11901 (0.224 sec)\n",
      "INFO:tensorflow:global_step/sec: 480.754\n",
      "INFO:tensorflow:loss = 8.32432, step = 12001 (0.215 sec)\n",
      "INFO:tensorflow:global_step/sec: 435.696\n",
      "INFO:tensorflow:loss = 6.95725, step = 12101 (0.222 sec)\n",
      "INFO:tensorflow:global_step/sec: 475.201\n",
      "INFO:tensorflow:loss = 11.3687, step = 12201 (0.211 sec)\n",
      "INFO:tensorflow:global_step/sec: 466.338\n",
      "INFO:tensorflow:loss = 7.49909, step = 12301 (0.215 sec)\n",
      "INFO:tensorflow:global_step/sec: 460.389\n",
      "INFO:tensorflow:loss = 8.75526, step = 12401 (0.216 sec)\n",
      "INFO:tensorflow:global_step/sec: 472.962\n",
      "INFO:tensorflow:loss = 6.55593, step = 12501 (0.212 sec)\n",
      "INFO:tensorflow:global_step/sec: 447.622\n",
      "INFO:tensorflow:loss = 9.13535, step = 12601 (0.221 sec)\n",
      "INFO:tensorflow:global_step/sec: 485.616\n",
      "INFO:tensorflow:loss = 14.1413, step = 12701 (0.209 sec)\n",
      "INFO:tensorflow:global_step/sec: 443.66\n",
      "INFO:tensorflow:loss = 24.989, step = 12801 (0.224 sec)\n",
      "INFO:tensorflow:global_step/sec: 479.748\n",
      "INFO:tensorflow:loss = 12.2817, step = 12901 (0.211 sec)\n",
      "INFO:tensorflow:global_step/sec: 445.174\n",
      "INFO:tensorflow:loss = 4.30262, step = 13001 (0.220 sec)\n",
      "INFO:tensorflow:global_step/sec: 484.383\n",
      "INFO:tensorflow:loss = 6.83124, step = 13101 (0.211 sec)\n",
      "INFO:tensorflow:global_step/sec: 439.769\n",
      "INFO:tensorflow:loss = 3.08712, step = 13201 (0.221 sec)\n",
      "INFO:tensorflow:global_step/sec: 447.619\n",
      "INFO:tensorflow:loss = 6.21861, step = 13301 (0.228 sec)\n",
      "INFO:tensorflow:global_step/sec: 445.636\n",
      "INFO:tensorflow:loss = 18.2645, step = 13401 (0.221 sec)\n",
      "INFO:tensorflow:global_step/sec: 484.379\n",
      "INFO:tensorflow:loss = 8.84759, step = 13501 (0.212 sec)\n",
      "INFO:tensorflow:global_step/sec: 445.017\n",
      "INFO:tensorflow:loss = 7.17821, step = 13601 (0.223 sec)\n",
      "INFO:tensorflow:global_step/sec: 445.633\n",
      "INFO:tensorflow:loss = 8.82432, step = 13701 (0.221 sec)\n",
      "INFO:tensorflow:global_step/sec: 459.942\n",
      "INFO:tensorflow:loss = 4.18298, step = 13801 (0.217 sec)\n",
      "INFO:tensorflow:global_step/sec: 453.7\n",
      "INFO:tensorflow:loss = 15.3078, step = 13901 (0.220 sec)\n",
      "INFO:tensorflow:global_step/sec: 435.947\n",
      "INFO:tensorflow:loss = 6.05008, step = 14001 (0.225 sec)\n",
      "INFO:tensorflow:global_step/sec: 493.924\n",
      "INFO:tensorflow:loss = 3.35632, step = 14101 (0.207 sec)\n",
      "INFO:tensorflow:global_step/sec: 441.707\n",
      "INFO:tensorflow:loss = 4.79301, step = 14201 (0.223 sec)\n",
      "INFO:tensorflow:global_step/sec: 468.537\n",
      "INFO:tensorflow:loss = 8.63531, step = 14301 (0.217 sec)\n",
      "INFO:tensorflow:global_step/sec: 491.513\n",
      "INFO:tensorflow:loss = 3.44695, step = 14401 (0.202 sec)\n",
      "INFO:tensorflow:global_step/sec: 475.194\n",
      "INFO:tensorflow:loss = 13.4738, step = 14501 (0.211 sec)\n",
      "INFO:tensorflow:global_step/sec: 435.951\n",
      "INFO:tensorflow:loss = 5.45644, step = 14601 (0.224 sec)\n",
      "INFO:tensorflow:global_step/sec: 447.619\n",
      "INFO:tensorflow:loss = 6.71687, step = 14701 (0.225 sec)\n",
      "INFO:tensorflow:global_step/sec: 475.199\n",
      "INFO:tensorflow:loss = 5.56361, step = 14801 (0.210 sec)\n",
      "INFO:tensorflow:global_step/sec: 454.394\n",
      "INFO:tensorflow:loss = 7.80081, step = 14901 (0.225 sec)\n",
      "INFO:tensorflow:global_step/sec: 455.855\n",
      "INFO:tensorflow:loss = 9.74829, step = 15001 (0.217 sec)\n",
      "INFO:tensorflow:global_step/sec: 445.632\n",
      "INFO:tensorflow:loss = 20.7424, step = 15101 (0.220 sec)\n",
      "INFO:tensorflow:global_step/sec: 462.059\n",
      "INFO:tensorflow:loss = 5.44238, step = 15201 (0.220 sec)\n",
      "INFO:tensorflow:global_step/sec: 449.634\n",
      "INFO:tensorflow:loss = 9.41518, step = 15301 (0.220 sec)\n",
      "INFO:tensorflow:global_step/sec: 467.209\n",
      "INFO:tensorflow:loss = 5.31205, step = 15401 (0.213 sec)\n",
      "INFO:tensorflow:global_step/sec: 430.331\n",
      "INFO:tensorflow:loss = 16.4344, step = 15501 (0.231 sec)\n",
      "INFO:tensorflow:global_step/sec: 420.077\n",
      "INFO:tensorflow:loss = 9.09125, step = 15601 (0.238 sec)\n",
      "INFO:tensorflow:global_step/sec: 275.459\n",
      "INFO:tensorflow:loss = 9.41946, step = 15701 (0.365 sec)\n",
      "INFO:tensorflow:global_step/sec: 317.303\n",
      "INFO:tensorflow:loss = 6.52938, step = 15801 (0.315 sec)\n",
      "INFO:tensorflow:global_step/sec: 464.2\n",
      "INFO:tensorflow:loss = 4.21402, step = 15901 (0.220 sec)\n",
      "INFO:tensorflow:global_step/sec: 428.49\n",
      "INFO:tensorflow:loss = 5.91559, step = 16001 (0.226 sec)\n",
      "INFO:tensorflow:global_step/sec: 459.944\n",
      "INFO:tensorflow:loss = 25.4404, step = 16101 (0.218 sec)\n",
      "INFO:tensorflow:global_step/sec: 441.709\n",
      "INFO:tensorflow:loss = 8.63621, step = 16201 (0.228 sec)\n",
      "INFO:tensorflow:global_step/sec: 457.842\n",
      "INFO:tensorflow:loss = 9.62118, step = 16301 (0.216 sec)\n",
      "INFO:tensorflow:global_step/sec: 464.198\n",
      "INFO:tensorflow:loss = 13.6378, step = 16401 (0.217 sec)\n",
      "INFO:tensorflow:global_step/sec: 453.7\n",
      "INFO:tensorflow:loss = 8.12327, step = 16501 (0.219 sec)\n"
     ]
    },
    {
     "name": "stdout",
     "output_type": "stream",
     "text": [
      "INFO:tensorflow:global_step/sec: 451.651\n",
      "INFO:tensorflow:loss = 10.8749, step = 16601 (0.219 sec)\n",
      "INFO:tensorflow:global_step/sec: 464.204\n",
      "INFO:tensorflow:loss = 9.65249, step = 16701 (0.217 sec)\n",
      "INFO:tensorflow:global_step/sec: 443.661\n",
      "INFO:tensorflow:loss = 12.1135, step = 16801 (0.225 sec)\n",
      "INFO:tensorflow:global_step/sec: 464.202\n",
      "INFO:tensorflow:loss = 11.668, step = 16901 (0.212 sec)\n",
      "INFO:tensorflow:global_step/sec: 475.197\n",
      "INFO:tensorflow:loss = 17.8641, step = 17001 (0.215 sec)\n",
      "INFO:tensorflow:global_step/sec: 489.112\n",
      "INFO:tensorflow:loss = 5.87482, step = 17101 (0.202 sec)\n",
      "INFO:tensorflow:global_step/sec: 477.464\n",
      "INFO:tensorflow:loss = 14.2589, step = 17201 (0.207 sec)\n",
      "INFO:tensorflow:global_step/sec: 457.843\n",
      "INFO:tensorflow:loss = 6.92436, step = 17301 (0.219 sec)\n",
      "INFO:tensorflow:global_step/sec: 477.386\n",
      "INFO:tensorflow:loss = 12.0859, step = 17401 (0.209 sec)\n",
      "INFO:tensorflow:global_step/sec: 479.827\n",
      "INFO:tensorflow:loss = 10.5781, step = 17501 (0.208 sec)\n",
      "INFO:tensorflow:global_step/sec: 493.927\n",
      "INFO:tensorflow:loss = 10.4164, step = 17601 (0.203 sec)\n",
      "INFO:tensorflow:global_step/sec: 475.202\n",
      "INFO:tensorflow:loss = 18.6791, step = 17701 (0.210 sec)\n",
      "INFO:tensorflow:global_step/sec: 493.924\n",
      "INFO:tensorflow:loss = 20.9085, step = 17801 (0.198 sec)\n",
      "INFO:tensorflow:global_step/sec: 489.108\n",
      "INFO:tensorflow:loss = 9.93745, step = 17901 (0.209 sec)\n",
      "INFO:tensorflow:global_step/sec: 470.745\n",
      "INFO:tensorflow:loss = 8.01508, step = 18001 (0.214 sec)\n",
      "INFO:tensorflow:global_step/sec: 491.505\n",
      "INFO:tensorflow:loss = 6.47336, step = 18101 (0.200 sec)\n",
      "INFO:tensorflow:global_step/sec: 493.924\n",
      "INFO:tensorflow:loss = 3.65102, step = 18201 (0.202 sec)\n",
      "INFO:tensorflow:global_step/sec: 466.364\n",
      "INFO:tensorflow:loss = 13.769, step = 18301 (0.212 sec)\n",
      "INFO:tensorflow:global_step/sec: 498.843\n",
      "INFO:tensorflow:loss = 5.13452, step = 18401 (0.205 sec)\n",
      "INFO:tensorflow:global_step/sec: 482.055\n",
      "INFO:tensorflow:loss = 9.78281, step = 18501 (0.205 sec)\n",
      "INFO:tensorflow:global_step/sec: 459.938\n",
      "INFO:tensorflow:loss = 7.67887, step = 18601 (0.227 sec)\n",
      "INFO:tensorflow:global_step/sec: 284.045\n",
      "INFO:tensorflow:loss = 8.49941, step = 18701 (0.339 sec)\n",
      "INFO:tensorflow:global_step/sec: 404.303\n",
      "INFO:tensorflow:loss = 21.9075, step = 18801 (0.247 sec)\n",
      "INFO:tensorflow:global_step/sec: 446.595\n",
      "INFO:tensorflow:loss = 12.3236, step = 18901 (0.227 sec)\n",
      "INFO:tensorflow:global_step/sec: 447.619\n",
      "INFO:tensorflow:loss = 7.13122, step = 19001 (0.223 sec)\n",
      "INFO:tensorflow:global_step/sec: 443.667\n",
      "INFO:tensorflow:loss = 6.67647, step = 19101 (0.223 sec)\n",
      "INFO:tensorflow:global_step/sec: 477.457\n",
      "INFO:tensorflow:loss = 13.8751, step = 19201 (0.212 sec)\n",
      "INFO:tensorflow:global_step/sec: 297.529\n",
      "INFO:tensorflow:loss = 16.3668, step = 19301 (0.333 sec)\n",
      "INFO:tensorflow:global_step/sec: 464.205\n",
      "INFO:tensorflow:loss = 24.5693, step = 19401 (0.218 sec)\n",
      "INFO:tensorflow:global_step/sec: 286.478\n",
      "INFO:tensorflow:loss = 4.49349, step = 19501 (0.346 sec)\n",
      "INFO:tensorflow:global_step/sec: 409.257\n",
      "INFO:tensorflow:loss = 10.2979, step = 19601 (0.241 sec)\n",
      "INFO:tensorflow:global_step/sec: 476.297\n",
      "INFO:tensorflow:loss = 7.53682, step = 19701 (0.211 sec)\n",
      "INFO:tensorflow:global_step/sec: 468.54\n",
      "INFO:tensorflow:loss = 10.7229, step = 19801 (0.219 sec)\n",
      "INFO:tensorflow:global_step/sec: 443.657\n",
      "INFO:tensorflow:loss = 17.7915, step = 19901 (0.222 sec)\n",
      "INFO:tensorflow:global_step/sec: 462.068\n",
      "INFO:tensorflow:loss = 8.97351, step = 20001 (0.213 sec)\n",
      "INFO:tensorflow:global_step/sec: 498.843\n",
      "INFO:tensorflow:loss = 7.70008, step = 20101 (0.204 sec)\n",
      "INFO:tensorflow:global_step/sec: 288.955\n",
      "INFO:tensorflow:loss = 8.41019, step = 20201 (0.352 sec)\n",
      "INFO:tensorflow:global_step/sec: 360.674\n",
      "INFO:tensorflow:loss = 3.6605, step = 20301 (0.271 sec)\n",
      "INFO:tensorflow:global_step/sec: 484.383\n",
      "INFO:tensorflow:loss = 8.58309, step = 20401 (0.205 sec)\n",
      "INFO:tensorflow:global_step/sec: 277.749\n",
      "INFO:tensorflow:loss = 7.59164, step = 20501 (0.365 sec)\n",
      "INFO:tensorflow:global_step/sec: 369.99\n",
      "INFO:tensorflow:loss = 3.66046, step = 20601 (0.263 sec)\n",
      "INFO:tensorflow:global_step/sec: 445.633\n",
      "INFO:tensorflow:loss = 7.3364, step = 20701 (0.224 sec)\n",
      "INFO:tensorflow:global_step/sec: 458.707\n",
      "INFO:tensorflow:loss = 11.0372, step = 20801 (0.221 sec)\n",
      "INFO:tensorflow:global_step/sec: 460.009\n",
      "INFO:tensorflow:loss = 13.5435, step = 20901 (0.219 sec)\n",
      "INFO:tensorflow:global_step/sec: 472.959\n",
      "INFO:tensorflow:loss = 20.261, step = 21001 (0.209 sec)\n",
      "INFO:tensorflow:global_step/sec: 443.659\n",
      "INFO:tensorflow:loss = 8.85033, step = 21101 (0.223 sec)\n",
      "INFO:tensorflow:global_step/sec: 457.844\n",
      "INFO:tensorflow:loss = 7.29092, step = 21201 (0.219 sec)\n",
      "INFO:tensorflow:global_step/sec: 308.187\n",
      "INFO:tensorflow:loss = 3.81709, step = 21301 (0.324 sec)\n",
      "INFO:tensorflow:global_step/sec: 317.306\n",
      "INFO:tensorflow:loss = 7.51922, step = 21401 (0.315 sec)\n",
      "INFO:tensorflow:global_step/sec: 311.389\n",
      "INFO:tensorflow:loss = 9.46876, step = 21501 (0.321 sec)\n",
      "INFO:tensorflow:global_step/sec: 432.187\n",
      "INFO:tensorflow:loss = 5.51201, step = 21601 (0.231 sec)\n",
      "INFO:tensorflow:global_step/sec: 368.63\n",
      "INFO:tensorflow:loss = 3.24847, step = 21701 (0.279 sec)\n",
      "INFO:tensorflow:global_step/sec: 322.4\n",
      "INFO:tensorflow:loss = 12.7758, step = 21801 (0.304 sec)\n",
      "INFO:tensorflow:global_step/sec: 323.446\n",
      "INFO:tensorflow:loss = 20.9415, step = 21901 (0.308 sec)\n",
      "INFO:tensorflow:global_step/sec: 356.825\n",
      "INFO:tensorflow:loss = 14.2928, step = 22001 (0.277 sec)\n",
      "INFO:tensorflow:global_step/sec: 430.329\n",
      "INFO:tensorflow:loss = 13.4048, step = 22101 (0.234 sec)\n",
      "INFO:tensorflow:global_step/sec: 470.743\n",
      "INFO:tensorflow:loss = 10.0002, step = 22201 (0.210 sec)\n",
      "INFO:tensorflow:global_step/sec: 464.2\n",
      "INFO:tensorflow:loss = 10.0204, step = 22301 (0.219 sec)\n",
      "INFO:tensorflow:global_step/sec: 434.057\n",
      "INFO:tensorflow:loss = 15.0728, step = 22401 (0.226 sec)\n",
      "INFO:tensorflow:global_step/sec: 482.052\n",
      "INFO:tensorflow:loss = 5.04483, step = 22501 (0.209 sec)\n",
      "INFO:tensorflow:global_step/sec: 493.855\n",
      "INFO:tensorflow:loss = 11.3014, step = 22601 (0.202 sec)\n",
      "INFO:tensorflow:global_step/sec: 455.828\n",
      "INFO:tensorflow:loss = 3.73636, step = 22701 (0.218 sec)\n",
      "INFO:tensorflow:global_step/sec: 477.391\n",
      "INFO:tensorflow:loss = 10.7616, step = 22801 (0.211 sec)\n",
      "INFO:tensorflow:global_step/sec: 432.245\n",
      "INFO:tensorflow:loss = 15.3043, step = 22901 (0.229 sec)\n",
      "INFO:tensorflow:global_step/sec: 443.659\n",
      "INFO:tensorflow:loss = 5.43331, step = 23001 (0.226 sec)\n",
      "INFO:tensorflow:global_step/sec: 475.146\n",
      "INFO:tensorflow:loss = 14.581, step = 23101 (0.213 sec)\n",
      "INFO:tensorflow:global_step/sec: 426.714\n",
      "INFO:tensorflow:loss = 9.32076, step = 23201 (0.230 sec)\n",
      "INFO:tensorflow:global_step/sec: 459.941\n",
      "INFO:tensorflow:loss = 21.3248, step = 23301 (0.215 sec)\n",
      "INFO:tensorflow:global_step/sec: 475.202\n",
      "INFO:tensorflow:loss = 6.27141, step = 23401 (0.213 sec)\n",
      "INFO:tensorflow:global_step/sec: 455.763\n",
      "INFO:tensorflow:loss = 6.90624, step = 23501 (0.220 sec)\n",
      "INFO:tensorflow:global_step/sec: 468.467\n",
      "INFO:tensorflow:loss = 17.8084, step = 23601 (0.213 sec)\n",
      "INFO:tensorflow:global_step/sec: 489.183\n",
      "INFO:tensorflow:loss = 4.29302, step = 23701 (0.206 sec)\n",
      "INFO:tensorflow:global_step/sec: 474.083\n",
      "INFO:tensorflow:loss = 30.4177, step = 23801 (0.212 sec)\n",
      "INFO:tensorflow:global_step/sec: 443.608\n",
      "INFO:tensorflow:loss = 6.006, step = 23901 (0.222 sec)\n",
      "INFO:tensorflow:global_step/sec: 484.021\n",
      "INFO:tensorflow:loss = 3.92591, step = 24001 (0.204 sec)\n",
      "INFO:tensorflow:global_step/sec: 468.538\n",
      "INFO:tensorflow:loss = 12.5488, step = 24101 (0.212 sec)\n",
      "INFO:tensorflow:global_step/sec: 482.057\n",
      "INFO:tensorflow:loss = 10.6982, step = 24201 (0.209 sec)\n",
      "INFO:tensorflow:global_step/sec: 449.27\n",
      "INFO:tensorflow:loss = 7.74356, step = 24301 (0.223 sec)\n",
      "INFO:tensorflow:global_step/sec: 478.726\n",
      "INFO:tensorflow:loss = 4.87437, step = 24401 (0.211 sec)\n",
      "INFO:tensorflow:global_step/sec: 439.765\n",
      "INFO:tensorflow:loss = 26.2556, step = 24501 (0.228 sec)\n",
      "INFO:tensorflow:global_step/sec: 423.071\n",
      "INFO:tensorflow:loss = 14.508, step = 24601 (0.233 sec)\n",
      "INFO:tensorflow:global_step/sec: 453.634\n",
      "INFO:tensorflow:loss = 19.891, step = 24701 (0.223 sec)\n",
      "INFO:tensorflow:global_step/sec: 496.374\n",
      "INFO:tensorflow:loss = 3.6895, step = 24801 (0.202 sec)\n",
      "INFO:tensorflow:global_step/sec: 466.426\n",
      "INFO:tensorflow:loss = 17.8936, step = 24901 (0.209 sec)\n"
     ]
    },
    {
     "name": "stdout",
     "output_type": "stream",
     "text": [
      "INFO:tensorflow:global_step/sec: 445.626\n",
      "INFO:tensorflow:loss = 2.96951, step = 25001 (0.222 sec)\n",
      "INFO:tensorflow:global_step/sec: 508.984\n",
      "INFO:tensorflow:loss = 5.3841, step = 25101 (0.199 sec)\n",
      "INFO:tensorflow:global_step/sec: 514.817\n",
      "INFO:tensorflow:loss = 3.80037, step = 25201 (0.193 sec)\n",
      "INFO:tensorflow:global_step/sec: 472.956\n",
      "INFO:tensorflow:loss = 9.8487, step = 25301 (0.212 sec)\n",
      "INFO:tensorflow:global_step/sec: 508.974\n",
      "INFO:tensorflow:loss = 6.88184, step = 25401 (0.198 sec)\n",
      "INFO:tensorflow:global_step/sec: 477.464\n",
      "INFO:tensorflow:loss = 15.7326, step = 25501 (0.206 sec)\n",
      "INFO:tensorflow:global_step/sec: 498.844\n",
      "INFO:tensorflow:loss = 2.39934, step = 25601 (0.205 sec)\n",
      "INFO:tensorflow:global_step/sec: 475.199\n",
      "INFO:tensorflow:loss = 17.1448, step = 25701 (0.208 sec)\n",
      "INFO:tensorflow:global_step/sec: 482.056\n",
      "INFO:tensorflow:loss = 5.60915, step = 25801 (0.208 sec)\n",
      "INFO:tensorflow:global_step/sec: 477.462\n",
      "INFO:tensorflow:loss = 10.536, step = 25901 (0.212 sec)\n",
      "INFO:tensorflow:global_step/sec: 424.861\n",
      "INFO:tensorflow:loss = 6.27993, step = 26001 (0.227 sec)\n",
      "INFO:tensorflow:global_step/sec: 486.414\n",
      "INFO:tensorflow:loss = 22.4179, step = 26101 (0.213 sec)\n",
      "INFO:tensorflow:global_step/sec: 506.398\n",
      "INFO:tensorflow:loss = 31.3595, step = 26201 (0.190 sec)\n",
      "INFO:tensorflow:global_step/sec: 489.114\n",
      "INFO:tensorflow:loss = 3.22141, step = 26301 (0.206 sec)\n",
      "INFO:tensorflow:global_step/sec: 489.026\n",
      "INFO:tensorflow:loss = 8.19685, step = 26401 (0.206 sec)\n",
      "INFO:tensorflow:global_step/sec: 473.035\n",
      "INFO:tensorflow:loss = 7.3835, step = 26501 (0.210 sec)\n",
      "INFO:tensorflow:global_step/sec: 491.508\n",
      "INFO:tensorflow:loss = 7.72919, step = 26601 (0.203 sec)\n",
      "INFO:tensorflow:global_step/sec: 498.839\n",
      "INFO:tensorflow:loss = 20.5154, step = 26701 (0.200 sec)\n",
      "INFO:tensorflow:global_step/sec: 472.965\n",
      "INFO:tensorflow:loss = 22.8254, step = 26801 (0.211 sec)\n",
      "INFO:tensorflow:global_step/sec: 481.032\n",
      "INFO:tensorflow:loss = 3.92067, step = 26901 (0.208 sec)\n",
      "INFO:tensorflow:global_step/sec: 472.962\n",
      "INFO:tensorflow:loss = 11.6956, step = 27001 (0.208 sec)\n",
      "INFO:tensorflow:global_step/sec: 508.972\n",
      "INFO:tensorflow:loss = 8.87156, step = 27101 (0.198 sec)\n",
      "INFO:tensorflow:global_step/sec: 501.804\n",
      "INFO:tensorflow:loss = 3.68853, step = 27201 (0.199 sec)\n",
      "INFO:tensorflow:global_step/sec: 484.386\n",
      "INFO:tensorflow:loss = 9.56402, step = 27301 (0.206 sec)\n",
      "INFO:tensorflow:global_step/sec: 477.463\n",
      "INFO:tensorflow:loss = 18.1296, step = 27401 (0.214 sec)\n",
      "INFO:tensorflow:global_step/sec: 489.107\n",
      "INFO:tensorflow:loss = 7.3992, step = 27501 (0.199 sec)\n",
      "INFO:tensorflow:global_step/sec: 501.342\n",
      "INFO:tensorflow:loss = 4.68582, step = 27601 (0.204 sec)\n",
      "INFO:tensorflow:global_step/sec: 482.055\n",
      "INFO:tensorflow:loss = 9.86202, step = 27701 (0.206 sec)\n",
      "INFO:tensorflow:global_step/sec: 475.197\n",
      "INFO:tensorflow:loss = 14.5161, step = 27801 (0.209 sec)\n",
      "INFO:tensorflow:global_step/sec: 484.385\n",
      "INFO:tensorflow:loss = 6.18106, step = 27901 (0.205 sec)\n",
      "INFO:tensorflow:global_step/sec: 482.056\n",
      "INFO:tensorflow:loss = 11.306, step = 28001 (0.210 sec)\n",
      "INFO:tensorflow:global_step/sec: 508.969\n",
      "INFO:tensorflow:loss = 6.55149, step = 28101 (0.188 sec)\n",
      "INFO:tensorflow:global_step/sec: 493.928\n",
      "INFO:tensorflow:loss = 4.05179, step = 28201 (0.206 sec)\n",
      "INFO:tensorflow:global_step/sec: 486.665\n",
      "INFO:tensorflow:loss = 6.07507, step = 28301 (0.204 sec)\n",
      "INFO:tensorflow:global_step/sec: 443.721\n",
      "INFO:tensorflow:loss = 5.4407, step = 28401 (0.224 sec)\n",
      "INFO:tensorflow:global_step/sec: 503.858\n",
      "INFO:tensorflow:loss = 5.38448, step = 28501 (0.199 sec)\n",
      "INFO:tensorflow:global_step/sec: 459.944\n",
      "INFO:tensorflow:loss = 3.89792, step = 28601 (0.215 sec)\n",
      "INFO:tensorflow:global_step/sec: 484.383\n",
      "INFO:tensorflow:loss = 10.8135, step = 28701 (0.208 sec)\n",
      "INFO:tensorflow:global_step/sec: 484.382\n",
      "INFO:tensorflow:loss = 8.54611, step = 28801 (0.208 sec)\n",
      "INFO:tensorflow:global_step/sec: 428.493\n",
      "INFO:tensorflow:loss = 10.4205, step = 28901 (0.232 sec)\n",
      "INFO:tensorflow:global_step/sec: 472.961\n",
      "INFO:tensorflow:loss = 10.233, step = 29001 (0.210 sec)\n",
      "INFO:tensorflow:global_step/sec: 477.387\n",
      "INFO:tensorflow:loss = 21.6742, step = 29101 (0.212 sec)\n",
      "INFO:tensorflow:global_step/sec: 491.583\n",
      "INFO:tensorflow:loss = 16.8168, step = 29201 (0.202 sec)\n",
      "INFO:tensorflow:global_step/sec: 479.753\n",
      "INFO:tensorflow:loss = 8.51053, step = 29301 (0.210 sec)\n",
      "INFO:tensorflow:global_step/sec: 451.655\n",
      "INFO:tensorflow:loss = 4.51364, step = 29401 (0.216 sec)\n",
      "INFO:tensorflow:global_step/sec: 518.035\n",
      "INFO:tensorflow:loss = 9.51683, step = 29501 (0.194 sec)\n",
      "INFO:tensorflow:global_step/sec: 477.462\n",
      "INFO:tensorflow:loss = 2.40024, step = 29601 (0.211 sec)\n",
      "INFO:tensorflow:global_step/sec: 479.442\n",
      "INFO:tensorflow:loss = 3.96679, step = 29701 (0.208 sec)\n",
      "INFO:tensorflow:global_step/sec: 482.052\n",
      "INFO:tensorflow:loss = 4.67764, step = 29801 (0.205 sec)\n",
      "INFO:tensorflow:global_step/sec: 516.844\n",
      "INFO:tensorflow:loss = 9.22466, step = 29901 (0.193 sec)\n",
      "INFO:tensorflow:global_step/sec: 496.372\n",
      "INFO:tensorflow:loss = 12.1922, step = 30001 (0.204 sec)\n",
      "INFO:tensorflow:global_step/sec: 493.934\n",
      "INFO:tensorflow:loss = 9.1087, step = 30101 (0.198 sec)\n",
      "INFO:tensorflow:global_step/sec: 519.515\n",
      "INFO:tensorflow:loss = 6.98892, step = 30201 (0.193 sec)\n",
      "INFO:tensorflow:global_step/sec: 468.542\n",
      "INFO:tensorflow:loss = 17.7421, step = 30301 (0.215 sec)\n",
      "INFO:tensorflow:global_step/sec: 493.859\n",
      "INFO:tensorflow:loss = 7.60842, step = 30401 (0.200 sec)\n",
      "INFO:tensorflow:global_step/sec: 498.91\n",
      "INFO:tensorflow:loss = 5.99957, step = 30501 (0.199 sec)\n",
      "INFO:tensorflow:global_step/sec: 491.504\n",
      "INFO:tensorflow:loss = 7.79685, step = 30601 (0.208 sec)\n",
      "INFO:tensorflow:global_step/sec: 511.577\n",
      "INFO:tensorflow:loss = 6.20961, step = 30701 (0.192 sec)\n",
      "INFO:tensorflow:global_step/sec: 472.957\n",
      "INFO:tensorflow:loss = 4.26712, step = 30801 (0.213 sec)\n",
      "INFO:tensorflow:global_step/sec: 493.929\n",
      "INFO:tensorflow:loss = 5.0716, step = 30901 (0.200 sec)\n",
      "INFO:tensorflow:global_step/sec: 482.052\n",
      "INFO:tensorflow:loss = 7.13468, step = 31001 (0.207 sec)\n",
      "INFO:tensorflow:global_step/sec: 489.111\n",
      "INFO:tensorflow:loss = 6.83419, step = 31101 (0.204 sec)\n",
      "INFO:tensorflow:global_step/sec: 519.521\n",
      "INFO:tensorflow:loss = 25.2921, step = 31201 (0.193 sec)\n",
      "INFO:tensorflow:global_step/sec: 470.738\n",
      "INFO:tensorflow:loss = 15.1365, step = 31301 (0.210 sec)\n",
      "INFO:tensorflow:global_step/sec: 470.738\n",
      "INFO:tensorflow:loss = 6.62984, step = 31401 (0.213 sec)\n",
      "INFO:tensorflow:global_step/sec: 503.854\n",
      "INFO:tensorflow:loss = 6.85654, step = 31501 (0.195 sec)\n",
      "INFO:tensorflow:global_step/sec: 489.113\n",
      "INFO:tensorflow:loss = 5.09982, step = 31601 (0.210 sec)\n",
      "INFO:tensorflow:global_step/sec: 486.659\n",
      "INFO:tensorflow:loss = 11.7417, step = 31701 (0.203 sec)\n",
      "INFO:tensorflow:global_step/sec: 436.007\n",
      "INFO:tensorflow:loss = 6.10953, step = 31801 (0.229 sec)\n",
      "INFO:tensorflow:global_step/sec: 489.103\n",
      "INFO:tensorflow:loss = 6.93743, step = 31901 (0.208 sec)\n",
      "INFO:tensorflow:global_step/sec: 486.745\n",
      "INFO:tensorflow:loss = 14.1684, step = 32001 (0.198 sec)\n",
      "INFO:tensorflow:global_step/sec: 501.414\n",
      "INFO:tensorflow:loss = 4.53641, step = 32101 (0.205 sec)\n",
      "INFO:tensorflow:global_step/sec: 496.373\n",
      "INFO:tensorflow:loss = 9.61211, step = 32201 (0.200 sec)\n",
      "INFO:tensorflow:global_step/sec: 453.701\n",
      "INFO:tensorflow:loss = 9.04856, step = 32301 (0.220 sec)\n",
      "INFO:tensorflow:global_step/sec: 484.383\n",
      "INFO:tensorflow:loss = 6.92232, step = 32401 (0.207 sec)\n",
      "INFO:tensorflow:global_step/sec: 508.971\n",
      "INFO:tensorflow:loss = 6.93915, step = 32501 (0.193 sec)\n",
      "INFO:tensorflow:global_step/sec: 479.744\n",
      "INFO:tensorflow:loss = 15.7868, step = 32601 (0.207 sec)\n",
      "INFO:tensorflow:global_step/sec: 477.469\n",
      "INFO:tensorflow:loss = 12.8436, step = 32701 (0.212 sec)\n",
      "INFO:tensorflow:global_step/sec: 479.743\n",
      "INFO:tensorflow:loss = 25.262, step = 32801 (0.209 sec)\n",
      "INFO:tensorflow:global_step/sec: 486.737\n",
      "INFO:tensorflow:loss = 17.5674, step = 32901 (0.201 sec)\n",
      "INFO:tensorflow:global_step/sec: 479.751\n",
      "INFO:tensorflow:loss = 9.16563, step = 33001 (0.208 sec)\n",
      "INFO:tensorflow:global_step/sec: 493.922\n",
      "INFO:tensorflow:loss = 9.2218, step = 33101 (0.204 sec)\n",
      "INFO:tensorflow:global_step/sec: 459.946\n",
      "INFO:tensorflow:loss = 16.328, step = 33201 (0.215 sec)\n",
      "INFO:tensorflow:global_step/sec: 496.371\n",
      "INFO:tensorflow:loss = 5.23107, step = 33301 (0.208 sec)\n"
     ]
    },
    {
     "name": "stdout",
     "output_type": "stream",
     "text": [
      "INFO:tensorflow:global_step/sec: 462.063\n",
      "INFO:tensorflow:loss = 8.67295, step = 33401 (0.209 sec)\n",
      "INFO:tensorflow:global_step/sec: 484.38\n",
      "INFO:tensorflow:loss = 19.9866, step = 33501 (0.209 sec)\n",
      "INFO:tensorflow:global_step/sec: 475.147\n",
      "INFO:tensorflow:loss = 5.2422, step = 33601 (0.207 sec)\n",
      "INFO:tensorflow:global_step/sec: 443.71\n",
      "INFO:tensorflow:loss = 9.27797, step = 33701 (0.226 sec)\n",
      "INFO:tensorflow:global_step/sec: 485.966\n",
      "INFO:tensorflow:loss = 6.37029, step = 33801 (0.207 sec)\n",
      "INFO:tensorflow:global_step/sec: 491.503\n",
      "INFO:tensorflow:loss = 9.57166, step = 33901 (0.203 sec)\n",
      "INFO:tensorflow:global_step/sec: 482.056\n",
      "INFO:tensorflow:loss = 4.42028, step = 34001 (0.207 sec)\n",
      "INFO:tensorflow:global_step/sec: 503.854\n",
      "INFO:tensorflow:loss = 15.1828, step = 34101 (0.197 sec)\n",
      "INFO:tensorflow:global_step/sec: 466.359\n",
      "INFO:tensorflow:loss = 3.16347, step = 34201 (0.216 sec)\n",
      "INFO:tensorflow:global_step/sec: 472.962\n",
      "INFO:tensorflow:loss = 6.30999, step = 34301 (0.209 sec)\n",
      "INFO:tensorflow:global_step/sec: 466.36\n",
      "INFO:tensorflow:loss = 4.92122, step = 34401 (0.214 sec)\n",
      "INFO:tensorflow:global_step/sec: 479.748\n",
      "INFO:tensorflow:loss = 12.2892, step = 34501 (0.205 sec)\n",
      "INFO:tensorflow:global_step/sec: 536.188\n",
      "INFO:tensorflow:loss = 10.278, step = 34601 (0.187 sec)\n",
      "INFO:tensorflow:global_step/sec: 477.465\n",
      "INFO:tensorflow:loss = 3.6157, step = 34701 (0.217 sec)\n",
      "INFO:tensorflow:global_step/sec: 489.112\n",
      "INFO:tensorflow:loss = 32.7356, step = 34801 (0.198 sec)\n",
      "INFO:tensorflow:global_step/sec: 498.841\n",
      "INFO:tensorflow:loss = 6.97519, step = 34901 (0.200 sec)\n",
      "INFO:tensorflow:global_step/sec: 494.463\n",
      "INFO:tensorflow:loss = 24.3235, step = 35001 (0.203 sec)\n",
      "INFO:tensorflow:global_step/sec: 470.74\n",
      "INFO:tensorflow:loss = 8.03269, step = 35101 (0.212 sec)\n",
      "INFO:tensorflow:global_step/sec: 475.199\n",
      "INFO:tensorflow:loss = 9.64868, step = 35201 (0.209 sec)\n",
      "INFO:tensorflow:global_step/sec: 479.75\n",
      "INFO:tensorflow:loss = 10.8338, step = 35301 (0.210 sec)\n",
      "INFO:tensorflow:global_step/sec: 501.339\n",
      "INFO:tensorflow:loss = 6.49634, step = 35401 (0.196 sec)\n",
      "INFO:tensorflow:global_step/sec: 489.105\n",
      "INFO:tensorflow:loss = 12.8316, step = 35501 (0.204 sec)\n",
      "INFO:tensorflow:global_step/sec: 493.929\n",
      "INFO:tensorflow:loss = 8.01589, step = 35601 (0.209 sec)\n",
      "INFO:tensorflow:global_step/sec: 453.699\n",
      "INFO:tensorflow:loss = 6.44213, step = 35701 (0.213 sec)\n",
      "INFO:tensorflow:global_step/sec: 479.748\n",
      "INFO:tensorflow:loss = 22.9845, step = 35801 (0.209 sec)\n",
      "INFO:tensorflow:global_step/sec: 491.506\n",
      "INFO:tensorflow:loss = 18.1894, step = 35901 (0.205 sec)\n",
      "INFO:tensorflow:global_step/sec: 493.932\n",
      "INFO:tensorflow:loss = 2.54099, step = 36001 (0.201 sec)\n",
      "INFO:tensorflow:global_step/sec: 470.735\n",
      "INFO:tensorflow:loss = 9.81076, step = 36101 (0.212 sec)\n",
      "INFO:tensorflow:global_step/sec: 489.04\n",
      "INFO:tensorflow:loss = 14.5825, step = 36201 (0.201 sec)\n",
      "INFO:tensorflow:global_step/sec: 486.806\n",
      "INFO:tensorflow:loss = 25.4259, step = 36301 (0.206 sec)\n",
      "INFO:tensorflow:global_step/sec: 498.841\n",
      "INFO:tensorflow:loss = 3.97612, step = 36401 (0.205 sec)\n",
      "INFO:tensorflow:global_step/sec: 472.964\n",
      "INFO:tensorflow:loss = 4.13126, step = 36501 (0.204 sec)\n",
      "INFO:tensorflow:global_step/sec: 484.382\n",
      "INFO:tensorflow:loss = 7.23274, step = 36601 (0.210 sec)\n",
      "INFO:tensorflow:global_step/sec: 498.843\n",
      "INFO:tensorflow:loss = 18.8178, step = 36701 (0.199 sec)\n",
      "INFO:tensorflow:global_step/sec: 498.84\n",
      "INFO:tensorflow:loss = 6.26234, step = 36801 (0.198 sec)\n",
      "INFO:tensorflow:global_step/sec: 486.736\n",
      "INFO:tensorflow:loss = 4.5172, step = 36901 (0.206 sec)\n",
      "INFO:tensorflow:global_step/sec: 484.23\n",
      "INFO:tensorflow:loss = 1.71707, step = 37001 (0.209 sec)\n",
      "INFO:tensorflow:global_step/sec: 447.624\n",
      "INFO:tensorflow:loss = 8.65845, step = 37101 (0.222 sec)\n",
      "INFO:tensorflow:global_step/sec: 501.34\n",
      "INFO:tensorflow:loss = 2.97775, step = 37201 (0.201 sec)\n",
      "INFO:tensorflow:global_step/sec: 482.051\n",
      "INFO:tensorflow:loss = 6.1445, step = 37301 (0.207 sec)\n",
      "INFO:tensorflow:global_step/sec: 501.34\n",
      "INFO:tensorflow:loss = 14.5945, step = 37401 (0.196 sec)\n",
      "INFO:tensorflow:global_step/sec: 479.742\n",
      "INFO:tensorflow:loss = 16.1908, step = 37501 (0.212 sec)\n",
      "INFO:tensorflow:global_step/sec: 466.362\n",
      "INFO:tensorflow:loss = 22.4489, step = 37601 (0.212 sec)\n",
      "INFO:tensorflow:global_step/sec: 503.862\n",
      "INFO:tensorflow:loss = 5.86085, step = 37701 (0.200 sec)\n",
      "INFO:tensorflow:global_step/sec: 486.734\n",
      "INFO:tensorflow:loss = 12.1271, step = 37801 (0.201 sec)\n",
      "INFO:tensorflow:global_step/sec: 491.503\n",
      "INFO:tensorflow:loss = 7.24283, step = 37901 (0.205 sec)\n",
      "INFO:tensorflow:global_step/sec: 481.998\n",
      "INFO:tensorflow:loss = 14.5262, step = 38001 (0.208 sec)\n",
      "INFO:tensorflow:global_step/sec: 475.257\n",
      "INFO:tensorflow:loss = 11.7624, step = 38101 (0.206 sec)\n",
      "INFO:tensorflow:global_step/sec: 504.021\n",
      "INFO:tensorflow:loss = 6.52598, step = 38201 (0.199 sec)\n",
      "INFO:tensorflow:global_step/sec: 489.107\n",
      "INFO:tensorflow:loss = 23.0897, step = 38301 (0.203 sec)\n",
      "INFO:tensorflow:global_step/sec: 486.736\n",
      "INFO:tensorflow:loss = 20.1974, step = 38401 (0.212 sec)\n",
      "INFO:tensorflow:global_step/sec: 462.066\n",
      "INFO:tensorflow:loss = 6.33877, step = 38501 (0.216 sec)\n",
      "INFO:tensorflow:global_step/sec: 449.628\n",
      "INFO:tensorflow:loss = 2.35629, step = 38601 (0.219 sec)\n",
      "INFO:tensorflow:global_step/sec: 491.508\n",
      "INFO:tensorflow:loss = 6.2668, step = 38701 (0.199 sec)\n",
      "INFO:tensorflow:global_step/sec: 498.843\n",
      "INFO:tensorflow:loss = 6.06005, step = 38801 (0.204 sec)\n",
      "INFO:tensorflow:global_step/sec: 468.536\n",
      "INFO:tensorflow:loss = 6.2282, step = 38901 (0.213 sec)\n",
      "INFO:tensorflow:global_step/sec: 461.995\n",
      "INFO:tensorflow:loss = 9.96055, step = 39001 (0.216 sec)\n",
      "INFO:tensorflow:global_step/sec: 503.94\n",
      "INFO:tensorflow:loss = 10.899, step = 39101 (0.197 sec)\n",
      "INFO:tensorflow:global_step/sec: 488.346\n",
      "INFO:tensorflow:loss = 5.52169, step = 39201 (0.206 sec)\n",
      "INFO:tensorflow:global_step/sec: 508.971\n",
      "INFO:tensorflow:loss = 6.16632, step = 39301 (0.194 sec)\n",
      "INFO:tensorflow:global_step/sec: 493.928\n",
      "INFO:tensorflow:loss = 14.8922, step = 39401 (0.204 sec)\n",
      "INFO:tensorflow:global_step/sec: 490.843\n",
      "INFO:tensorflow:loss = 16.5498, step = 39501 (0.200 sec)\n",
      "INFO:tensorflow:global_step/sec: 500.079\n",
      "INFO:tensorflow:loss = 2.92204, step = 39601 (0.204 sec)\n",
      "INFO:tensorflow:global_step/sec: 508.975\n",
      "INFO:tensorflow:loss = 4.36058, step = 39701 (0.195 sec)\n",
      "INFO:tensorflow:global_step/sec: 493.928\n",
      "INFO:tensorflow:loss = 9.33628, step = 39801 (0.201 sec)\n",
      "INFO:tensorflow:global_step/sec: 106.014\n",
      "INFO:tensorflow:loss = 7.25833, step = 39901 (0.942 sec)\n",
      "INFO:tensorflow:global_step/sec: 308.518\n",
      "INFO:tensorflow:loss = 19.5625, step = 40001 (0.327 sec)\n",
      "INFO:tensorflow:global_step/sec: 321.368\n",
      "INFO:tensorflow:loss = 12.2992, step = 40101 (0.306 sec)\n",
      "INFO:tensorflow:global_step/sec: 372.707\n",
      "INFO:tensorflow:loss = 12.5185, step = 40201 (0.268 sec)\n",
      "INFO:tensorflow:global_step/sec: 332.04\n",
      "INFO:tensorflow:loss = 7.92627, step = 40301 (0.304 sec)\n",
      "INFO:tensorflow:global_step/sec: 349.364\n",
      "INFO:tensorflow:loss = 29.1813, step = 40401 (0.286 sec)\n",
      "INFO:tensorflow:global_step/sec: 451.586\n",
      "INFO:tensorflow:loss = 6.65484, step = 40501 (0.216 sec)\n",
      "INFO:tensorflow:global_step/sec: 473.035\n",
      "INFO:tensorflow:loss = 14.0272, step = 40601 (0.215 sec)\n",
      "INFO:tensorflow:global_step/sec: 479.676\n",
      "INFO:tensorflow:loss = 10.6112, step = 40701 (0.209 sec)\n",
      "INFO:tensorflow:global_step/sec: 445.691\n",
      "INFO:tensorflow:loss = 5.72501, step = 40801 (0.221 sec)\n",
      "INFO:tensorflow:global_step/sec: 466.296\n",
      "INFO:tensorflow:loss = 5.81638, step = 40901 (0.216 sec)\n",
      "INFO:tensorflow:global_step/sec: 470.806\n",
      "INFO:tensorflow:loss = 7.14764, step = 41001 (0.213 sec)\n",
      "INFO:tensorflow:global_step/sec: 417.464\n",
      "INFO:tensorflow:loss = 2.94802, step = 41101 (0.237 sec)\n",
      "INFO:tensorflow:global_step/sec: 470.738\n",
      "INFO:tensorflow:loss = 29.2131, step = 41201 (0.214 sec)\n",
      "INFO:tensorflow:global_step/sec: 445.91\n",
      "INFO:tensorflow:loss = 6.44077, step = 41301 (0.222 sec)\n",
      "INFO:tensorflow:global_step/sec: 477.468\n",
      "INFO:tensorflow:loss = 4.91235, step = 41401 (0.213 sec)\n",
      "INFO:tensorflow:global_step/sec: 406.773\n",
      "INFO:tensorflow:loss = 14.6988, step = 41501 (0.241 sec)\n",
      "INFO:tensorflow:global_step/sec: 453.763\n",
      "INFO:tensorflow:loss = 32.1178, step = 41601 (0.223 sec)\n",
      "INFO:tensorflow:global_step/sec: 464.128\n",
      "INFO:tensorflow:loss = 2.6827, step = 41701 (0.217 sec)\n"
     ]
    },
    {
     "name": "stdout",
     "output_type": "stream",
     "text": [
      "INFO:tensorflow:global_step/sec: 457.843\n",
      "INFO:tensorflow:loss = 13.5633, step = 41801 (0.218 sec)\n",
      "INFO:tensorflow:global_step/sec: 468.553\n",
      "INFO:tensorflow:loss = 32.343, step = 41901 (0.212 sec)\n",
      "INFO:tensorflow:global_step/sec: 466.419\n",
      "INFO:tensorflow:loss = 6.48831, step = 42001 (0.212 sec)\n",
      "INFO:tensorflow:global_step/sec: 462.063\n",
      "INFO:tensorflow:loss = 17.8338, step = 42101 (0.216 sec)\n",
      "INFO:tensorflow:global_step/sec: 484.383\n",
      "INFO:tensorflow:loss = 10.8488, step = 42201 (0.209 sec)\n",
      "INFO:tensorflow:global_step/sec: 439.702\n",
      "INFO:tensorflow:loss = 2.87188, step = 42301 (0.223 sec)\n",
      "INFO:tensorflow:global_step/sec: 470.818\n",
      "INFO:tensorflow:loss = 21.33, step = 42401 (0.213 sec)\n",
      "INFO:tensorflow:global_step/sec: 491.506\n",
      "INFO:tensorflow:loss = 23.8019, step = 42501 (0.206 sec)\n",
      "INFO:tensorflow:global_step/sec: 477.39\n",
      "INFO:tensorflow:loss = 31.3439, step = 42601 (0.207 sec)\n",
      "INFO:tensorflow:global_step/sec: 479.818\n",
      "INFO:tensorflow:loss = 3.41778, step = 42701 (0.208 sec)\n",
      "INFO:tensorflow:global_step/sec: 489.684\n",
      "INFO:tensorflow:loss = 18.8453, step = 42801 (0.204 sec)\n",
      "INFO:tensorflow:global_step/sec: 491.503\n",
      "INFO:tensorflow:loss = 10.7768, step = 42901 (0.206 sec)\n",
      "INFO:tensorflow:global_step/sec: 484.387\n",
      "INFO:tensorflow:loss = 13.9797, step = 43001 (0.201 sec)\n",
      "INFO:tensorflow:global_step/sec: 506.398\n",
      "INFO:tensorflow:loss = 9.76162, step = 43101 (0.197 sec)\n",
      "INFO:tensorflow:global_step/sec: 461.997\n",
      "INFO:tensorflow:loss = 1.94014, step = 43201 (0.218 sec)\n",
      "INFO:tensorflow:global_step/sec: 477.536\n",
      "INFO:tensorflow:loss = 18.8199, step = 43301 (0.211 sec)\n",
      "INFO:tensorflow:global_step/sec: 490.412\n",
      "INFO:tensorflow:loss = 6.22826, step = 43401 (0.203 sec)\n",
      "INFO:tensorflow:global_step/sec: 467.388\n",
      "INFO:tensorflow:loss = 10.4426, step = 43501 (0.211 sec)\n",
      "INFO:tensorflow:global_step/sec: 508.978\n",
      "INFO:tensorflow:loss = 7.4099, step = 43601 (0.196 sec)\n",
      "INFO:tensorflow:global_step/sec: 466.355\n",
      "INFO:tensorflow:loss = 9.63025, step = 43701 (0.216 sec)\n",
      "INFO:tensorflow:global_step/sec: 498.843\n",
      "INFO:tensorflow:loss = 4.5591, step = 43801 (0.200 sec)\n",
      "INFO:tensorflow:global_step/sec: 491.525\n",
      "INFO:tensorflow:loss = 9.4249, step = 43901 (0.206 sec)\n",
      "INFO:tensorflow:global_step/sec: 481.118\n",
      "INFO:tensorflow:loss = 6.10149, step = 44001 (0.204 sec)\n",
      "INFO:tensorflow:global_step/sec: 484.309\n",
      "INFO:tensorflow:loss = 6.78481, step = 44101 (0.208 sec)\n",
      "INFO:tensorflow:global_step/sec: 481.449\n",
      "INFO:tensorflow:loss = 13.5256, step = 44201 (0.209 sec)\n",
      "INFO:tensorflow:global_step/sec: 470.754\n",
      "INFO:tensorflow:loss = 11.5031, step = 44301 (0.209 sec)\n",
      "INFO:tensorflow:global_step/sec: 493.926\n",
      "INFO:tensorflow:loss = 4.8669, step = 44401 (0.203 sec)\n",
      "INFO:tensorflow:global_step/sec: 493.852\n",
      "INFO:tensorflow:loss = 13.5189, step = 44501 (0.202 sec)\n",
      "INFO:tensorflow:global_step/sec: 484.456\n",
      "INFO:tensorflow:loss = 15.7078, step = 44601 (0.210 sec)\n",
      "INFO:tensorflow:global_step/sec: 476.45\n",
      "INFO:tensorflow:loss = 6.54928, step = 44701 (0.204 sec)\n",
      "INFO:tensorflow:global_step/sec: 486.807\n",
      "INFO:tensorflow:loss = 17.29, step = 44801 (0.210 sec)\n",
      "INFO:tensorflow:global_step/sec: 496.375\n",
      "INFO:tensorflow:loss = 16.9081, step = 44901 (0.196 sec)\n",
      "INFO:tensorflow:global_step/sec: 491.291\n",
      "INFO:tensorflow:loss = 9.0771, step = 45001 (0.207 sec)\n",
      "INFO:tensorflow:global_step/sec: 489.108\n",
      "INFO:tensorflow:loss = 2.82639, step = 45101 (0.203 sec)\n",
      "INFO:tensorflow:global_step/sec: 439.832\n",
      "INFO:tensorflow:loss = 6.49053, step = 45201 (0.227 sec)\n",
      "INFO:tensorflow:global_step/sec: 486.735\n",
      "INFO:tensorflow:loss = 13.6932, step = 45301 (0.203 sec)\n",
      "INFO:tensorflow:global_step/sec: 482.055\n",
      "INFO:tensorflow:loss = 9.12391, step = 45401 (0.211 sec)\n",
      "INFO:tensorflow:global_step/sec: 503.855\n",
      "INFO:tensorflow:loss = 9.6484, step = 45501 (0.193 sec)\n",
      "INFO:tensorflow:global_step/sec: 477.464\n",
      "INFO:tensorflow:loss = 3.02407, step = 45601 (0.214 sec)\n",
      "INFO:tensorflow:global_step/sec: 470.738\n",
      "INFO:tensorflow:loss = 5.76883, step = 45701 (0.209 sec)\n",
      "INFO:tensorflow:global_step/sec: 489.113\n",
      "INFO:tensorflow:loss = 3.70767, step = 45801 (0.203 sec)\n",
      "INFO:tensorflow:global_step/sec: 501.333\n",
      "INFO:tensorflow:loss = 9.35621, step = 45901 (0.201 sec)\n",
      "INFO:tensorflow:global_step/sec: 482.055\n",
      "INFO:tensorflow:loss = 4.50002, step = 46001 (0.210 sec)\n",
      "INFO:tensorflow:global_step/sec: 451.652\n",
      "INFO:tensorflow:loss = 21.0735, step = 46101 (0.219 sec)\n",
      "INFO:tensorflow:global_step/sec: 482.057\n",
      "INFO:tensorflow:loss = 10.6606, step = 46201 (0.207 sec)\n",
      "INFO:tensorflow:global_step/sec: 496.376\n",
      "INFO:tensorflow:loss = 7.76569, step = 46301 (0.202 sec)\n",
      "INFO:tensorflow:global_step/sec: 464.199\n",
      "INFO:tensorflow:loss = 6.2188, step = 46401 (0.212 sec)\n",
      "INFO:tensorflow:global_step/sec: 491.508\n",
      "INFO:tensorflow:loss = 6.0845, step = 46501 (0.205 sec)\n",
      "INFO:tensorflow:global_step/sec: 472.959\n",
      "INFO:tensorflow:loss = 11.7414, step = 46601 (0.207 sec)\n",
      "INFO:tensorflow:global_step/sec: 486.658\n",
      "INFO:tensorflow:loss = 5.93691, step = 46701 (0.207 sec)\n",
      "INFO:tensorflow:global_step/sec: 501.369\n",
      "INFO:tensorflow:loss = 5.63158, step = 46801 (0.200 sec)\n",
      "INFO:tensorflow:global_step/sec: 491.48\n",
      "INFO:tensorflow:loss = 4.55503, step = 46901 (0.204 sec)\n",
      "INFO:tensorflow:global_step/sec: 491.516\n",
      "INFO:tensorflow:loss = 15.6847, step = 47001 (0.205 sec)\n",
      "INFO:tensorflow:global_step/sec: 464.252\n",
      "INFO:tensorflow:loss = 3.56674, step = 47101 (0.213 sec)\n",
      "INFO:tensorflow:global_step/sec: 481.99\n",
      "INFO:tensorflow:loss = 18.6167, step = 47201 (0.206 sec)\n",
      "INFO:tensorflow:global_step/sec: 488.28\n",
      "INFO:tensorflow:loss = 10.0542, step = 47301 (0.207 sec)\n",
      "INFO:tensorflow:global_step/sec: 493.983\n",
      "INFO:tensorflow:loss = 10.8808, step = 47401 (0.201 sec)\n",
      "INFO:tensorflow:global_step/sec: 475.2\n",
      "INFO:tensorflow:loss = 8.58086, step = 47501 (0.210 sec)\n",
      "INFO:tensorflow:global_step/sec: 435.948\n",
      "INFO:tensorflow:loss = 3.34368, step = 47601 (0.227 sec)\n",
      "INFO:tensorflow:global_step/sec: 475.134\n",
      "INFO:tensorflow:loss = 7.0023, step = 47701 (0.211 sec)\n",
      "INFO:tensorflow:global_step/sec: 509.047\n",
      "INFO:tensorflow:loss = 7.20928, step = 47801 (0.197 sec)\n",
      "INFO:tensorflow:global_step/sec: 503.855\n",
      "INFO:tensorflow:loss = 5.50537, step = 47901 (0.197 sec)\n",
      "INFO:tensorflow:global_step/sec: 489.108\n",
      "INFO:tensorflow:loss = 5.56585, step = 48001 (0.205 sec)\n",
      "INFO:tensorflow:global_step/sec: 494.142\n",
      "INFO:tensorflow:loss = 4.88364, step = 48101 (0.201 sec)\n",
      "INFO:tensorflow:global_step/sec: 493.928\n",
      "INFO:tensorflow:loss = 7.62873, step = 48201 (0.202 sec)\n",
      "INFO:tensorflow:global_step/sec: 468.54\n",
      "INFO:tensorflow:loss = 12.5808, step = 48301 (0.211 sec)\n",
      "INFO:tensorflow:global_step/sec: 506.396\n",
      "INFO:tensorflow:loss = 12.1979, step = 48401 (0.198 sec)\n",
      "INFO:tensorflow:global_step/sec: 491.51\n",
      "INFO:tensorflow:loss = 8.30667, step = 48501 (0.204 sec)\n",
      "INFO:tensorflow:global_step/sec: 486.736\n",
      "INFO:tensorflow:loss = 22.3921, step = 48601 (0.205 sec)\n",
      "INFO:tensorflow:global_step/sec: 482.055\n",
      "INFO:tensorflow:loss = 13.9994, step = 48701 (0.208 sec)\n",
      "INFO:tensorflow:global_step/sec: 493.926\n",
      "INFO:tensorflow:loss = 12.5697, step = 48801 (0.206 sec)\n",
      "INFO:tensorflow:global_step/sec: 498.84\n",
      "INFO:tensorflow:loss = 5.40041, step = 48901 (0.194 sec)\n",
      "INFO:tensorflow:global_step/sec: 455.764\n",
      "INFO:tensorflow:loss = 9.39225, step = 49001 (0.220 sec)\n",
      "INFO:tensorflow:global_step/sec: 495.718\n",
      "INFO:tensorflow:loss = 6.10126, step = 49101 (0.201 sec)\n",
      "INFO:tensorflow:global_step/sec: 484.389\n",
      "INFO:tensorflow:loss = 2.70623, step = 49201 (0.209 sec)\n",
      "INFO:tensorflow:global_step/sec: 477.458\n",
      "INFO:tensorflow:loss = 6.50376, step = 49301 (0.207 sec)\n",
      "INFO:tensorflow:global_step/sec: 479.751\n",
      "INFO:tensorflow:loss = 4.86362, step = 49401 (0.210 sec)\n",
      "INFO:tensorflow:global_step/sec: 466.357\n",
      "INFO:tensorflow:loss = 4.43481, step = 49501 (0.211 sec)\n",
      "INFO:tensorflow:global_step/sec: 508.976\n",
      "INFO:tensorflow:loss = 6.88185, step = 49601 (0.197 sec)\n",
      "INFO:tensorflow:global_step/sec: 501.339\n",
      "INFO:tensorflow:loss = 11.0951, step = 49701 (0.201 sec)\n",
      "INFO:tensorflow:global_step/sec: 486.73\n",
      "INFO:tensorflow:loss = 7.28571, step = 49801 (0.206 sec)\n",
      "INFO:tensorflow:global_step/sec: 479.753\n",
      "INFO:tensorflow:loss = 10.4105, step = 49901 (0.203 sec)\n",
      "INFO:tensorflow:Saving checkpoints for 50000 into C:\\Users\\mvkum\\AppData\\Local\\Temp\\tmpni41xa53\\model.ckpt.\n",
      "INFO:tensorflow:Loss for final step: 9.98413.\n"
     ]
    },
    {
     "data": {
      "text/plain": [
       "<tensorflow.python.estimator.canned.linear.LinearRegressor at 0x26a8847b048>"
      ]
     },
     "execution_count": 130,
     "metadata": {},
     "output_type": "execute_result"
    }
   ],
   "source": [
    "model.train(input_fn=input_func,steps=50000)"
   ]
  },
  {
   "cell_type": "code",
   "execution_count": 131,
   "metadata": {
    "collapsed": true
   },
   "outputs": [],
   "source": [
    "predict_input_func = tf.estimator.inputs.pandas_input_fn(\n",
    "      x=X_test,\n",
    "      batch_size=10,\n",
    "      num_epochs=1,\n",
    "      shuffle=False)"
   ]
  },
  {
   "cell_type": "code",
   "execution_count": 132,
   "metadata": {
    "collapsed": true
   },
   "outputs": [],
   "source": [
    "final_preds = []\n",
    "for pred in predictions:\n",
    "    final_preds.append(pred['predictions'])"
   ]
  },
  {
   "cell_type": "code",
   "execution_count": 133,
   "metadata": {
    "collapsed": true
   },
   "outputs": [],
   "source": [
    "pred_gen = model.predict(predict_input_func)"
   ]
  },
  {
   "cell_type": "code",
   "execution_count": 134,
   "metadata": {},
   "outputs": [
    {
     "name": "stdout",
     "output_type": "stream",
     "text": [
      "INFO:tensorflow:Calling model_fn.\n",
      "INFO:tensorflow:Done calling model_fn.\n",
      "INFO:tensorflow:Graph was finalized.\n",
      "INFO:tensorflow:Restoring parameters from C:\\Users\\mvkum\\AppData\\Local\\Temp\\tmpni41xa53\\model.ckpt-50000\n",
      "INFO:tensorflow:Running local_init_op.\n",
      "INFO:tensorflow:Done running local_init_op.\n"
     ]
    }
   ],
   "source": [
    "predictions = list(pred_gen)"
   ]
  },
  {
   "cell_type": "code",
   "execution_count": 146,
   "metadata": {},
   "outputs": [
    {
     "data": {
      "text/plain": [
       "1.0052226975475513"
      ]
     },
     "execution_count": 146,
     "metadata": {},
     "output_type": "execute_result"
    }
   ],
   "source": [
    "np.sqrt(mean_squared_error(y_test,final_preds))"
   ]
  },
  {
   "cell_type": "code",
   "execution_count": null,
   "metadata": {
    "collapsed": true
   },
   "outputs": [],
   "source": []
  },
  {
   "cell_type": "code",
   "execution_count": null,
   "metadata": {
    "collapsed": true
   },
   "outputs": [],
   "source": []
  },
  {
   "cell_type": "code",
   "execution_count": null,
   "metadata": {
    "collapsed": true
   },
   "outputs": [],
   "source": []
  },
  {
   "cell_type": "code",
   "execution_count": 162,
   "metadata": {},
   "outputs": [
    {
     "data": {
      "text/html": [
       "<div>\n",
       "<style>\n",
       "    .dataframe thead tr:only-child th {\n",
       "        text-align: right;\n",
       "    }\n",
       "\n",
       "    .dataframe thead th {\n",
       "        text-align: left;\n",
       "    }\n",
       "\n",
       "    .dataframe tbody tr th {\n",
       "        vertical-align: top;\n",
       "    }\n",
       "</style>\n",
       "<table border=\"1\" class=\"dataframe\">\n",
       "  <thead>\n",
       "    <tr style=\"text-align: right;\">\n",
       "      <th></th>\n",
       "      <th>color</th>\n",
       "      <th>director_name</th>\n",
       "      <th>num_critic_for_reviews</th>\n",
       "      <th>duration</th>\n",
       "      <th>director_facebook_likes</th>\n",
       "      <th>actor_3_facebook_likes</th>\n",
       "      <th>actor_2_name</th>\n",
       "      <th>actor_1_facebook_likes</th>\n",
       "      <th>gross</th>\n",
       "      <th>genres</th>\n",
       "      <th>...</th>\n",
       "      <th>language</th>\n",
       "      <th>country</th>\n",
       "      <th>content_rating</th>\n",
       "      <th>budget</th>\n",
       "      <th>title_year</th>\n",
       "      <th>actor_2_facebook_likes</th>\n",
       "      <th>imdb_score</th>\n",
       "      <th>aspect_ratio</th>\n",
       "      <th>movie_facebook_likes</th>\n",
       "      <th>colorclass</th>\n",
       "    </tr>\n",
       "  </thead>\n",
       "  <tbody>\n",
       "    <tr>\n",
       "      <th>0</th>\n",
       "      <td>Color</td>\n",
       "      <td>James Cameron</td>\n",
       "      <td>723.0</td>\n",
       "      <td>178.0</td>\n",
       "      <td>0.0</td>\n",
       "      <td>855.0</td>\n",
       "      <td>Joel David Moore</td>\n",
       "      <td>1000.0</td>\n",
       "      <td>760505847.0</td>\n",
       "      <td>Action|Adventure|Fantasy|Sci-Fi</td>\n",
       "      <td>...</td>\n",
       "      <td>English</td>\n",
       "      <td>USA</td>\n",
       "      <td>PG-13</td>\n",
       "      <td>237000000.0</td>\n",
       "      <td>2009.0</td>\n",
       "      <td>936.0</td>\n",
       "      <td>7.9</td>\n",
       "      <td>1.78</td>\n",
       "      <td>33000</td>\n",
       "      <td>1</td>\n",
       "    </tr>\n",
       "    <tr>\n",
       "      <th>1</th>\n",
       "      <td>Color</td>\n",
       "      <td>Gore Verbinski</td>\n",
       "      <td>302.0</td>\n",
       "      <td>169.0</td>\n",
       "      <td>563.0</td>\n",
       "      <td>1000.0</td>\n",
       "      <td>Orlando Bloom</td>\n",
       "      <td>40000.0</td>\n",
       "      <td>309404152.0</td>\n",
       "      <td>Action|Adventure|Fantasy</td>\n",
       "      <td>...</td>\n",
       "      <td>English</td>\n",
       "      <td>USA</td>\n",
       "      <td>PG-13</td>\n",
       "      <td>300000000.0</td>\n",
       "      <td>2007.0</td>\n",
       "      <td>5000.0</td>\n",
       "      <td>7.1</td>\n",
       "      <td>2.35</td>\n",
       "      <td>0</td>\n",
       "      <td>1</td>\n",
       "    </tr>\n",
       "    <tr>\n",
       "      <th>2</th>\n",
       "      <td>Color</td>\n",
       "      <td>Sam Mendes</td>\n",
       "      <td>602.0</td>\n",
       "      <td>148.0</td>\n",
       "      <td>0.0</td>\n",
       "      <td>161.0</td>\n",
       "      <td>Rory Kinnear</td>\n",
       "      <td>11000.0</td>\n",
       "      <td>200074175.0</td>\n",
       "      <td>Action|Adventure|Thriller</td>\n",
       "      <td>...</td>\n",
       "      <td>English</td>\n",
       "      <td>UK</td>\n",
       "      <td>PG-13</td>\n",
       "      <td>245000000.0</td>\n",
       "      <td>2015.0</td>\n",
       "      <td>393.0</td>\n",
       "      <td>6.8</td>\n",
       "      <td>2.35</td>\n",
       "      <td>85000</td>\n",
       "      <td>1</td>\n",
       "    </tr>\n",
       "  </tbody>\n",
       "</table>\n",
       "<p>3 rows × 29 columns</p>\n",
       "</div>"
      ],
      "text/plain": [
       "   color   director_name  num_critic_for_reviews  duration  \\\n",
       "0  Color   James Cameron                   723.0     178.0   \n",
       "1  Color  Gore Verbinski                   302.0     169.0   \n",
       "2  Color      Sam Mendes                   602.0     148.0   \n",
       "\n",
       "   director_facebook_likes  actor_3_facebook_likes      actor_2_name  \\\n",
       "0                      0.0                   855.0  Joel David Moore   \n",
       "1                    563.0                  1000.0     Orlando Bloom   \n",
       "2                      0.0                   161.0      Rory Kinnear   \n",
       "\n",
       "   actor_1_facebook_likes        gross                           genres  \\\n",
       "0                  1000.0  760505847.0  Action|Adventure|Fantasy|Sci-Fi   \n",
       "1                 40000.0  309404152.0         Action|Adventure|Fantasy   \n",
       "2                 11000.0  200074175.0        Action|Adventure|Thriller   \n",
       "\n",
       "     ...     language country  content_rating       budget title_year  \\\n",
       "0    ...      English     USA           PG-13  237000000.0     2009.0   \n",
       "1    ...      English     USA           PG-13  300000000.0     2007.0   \n",
       "2    ...      English      UK           PG-13  245000000.0     2015.0   \n",
       "\n",
       "   actor_2_facebook_likes imdb_score aspect_ratio  movie_facebook_likes  \\\n",
       "0                   936.0        7.9         1.78                 33000   \n",
       "1                  5000.0        7.1         2.35                     0   \n",
       "2                   393.0        6.8         2.35                 85000   \n",
       "\n",
       "  colorclass  \n",
       "0          1  \n",
       "1          1  \n",
       "2          1  \n",
       "\n",
       "[3 rows x 29 columns]"
      ]
     },
     "execution_count": 162,
     "metadata": {},
     "output_type": "execute_result"
    }
   ],
   "source": [
    "df.head(3)"
   ]
  },
  {
   "cell_type": "code",
   "execution_count": 154,
   "metadata": {
    "collapsed": true
   },
   "outputs": [],
   "source": [
    "from sklearn.preprocessing import StandardScaler"
   ]
  },
  {
   "cell_type": "code",
   "execution_count": 155,
   "metadata": {},
   "outputs": [
    {
     "data": {
      "text/plain": [
       "StandardScaler(copy=True, with_mean=True, with_std=True)"
      ]
     },
     "execution_count": 155,
     "metadata": {},
     "output_type": "execute_result"
    }
   ],
   "source": [
    "scaler = StandardScaler()\n",
    "scaler.fit(dat)"
   ]
  },
  {
   "cell_type": "code",
   "execution_count": 156,
   "metadata": {
    "collapsed": true
   },
   "outputs": [],
   "source": [
    "scaled_data = scaler.transform(dat)"
   ]
  },
  {
   "cell_type": "code",
   "execution_count": 157,
   "metadata": {
    "collapsed": true
   },
   "outputs": [],
   "source": [
    "from sklearn.decomposition import PCA\n",
    "pca = PCA(n_components=2)\n",
    "\n",
    "\n"
   ]
  },
  {
   "cell_type": "code",
   "execution_count": 158,
   "metadata": {
    "collapsed": true
   },
   "outputs": [],
   "source": [
    "pca.fit(scaled_data)\n",
    "x_pca = pca.transform(scaled_data)"
   ]
  },
  {
   "cell_type": "code",
   "execution_count": 159,
   "metadata": {},
   "outputs": [
    {
     "data": {
      "text/plain": [
       "(5043, 2)"
      ]
     },
     "execution_count": 159,
     "metadata": {},
     "output_type": "execute_result"
    }
   ],
   "source": [
    "scaled_data.shape\n",
    "x_pca.shape"
   ]
  },
  {
   "cell_type": "code",
   "execution_count": 163,
   "metadata": {},
   "outputs": [
    {
     "data": {
      "text/plain": [
       "Text(0,0.5,'Second Principal Component')"
      ]
     },
     "execution_count": 163,
     "metadata": {},
     "output_type": "execute_result"
    },
    {
     "data": {
      "image/png": "[encoded data removed]",
      "text/plain": [
       "<Figure size 576x432 with 1 Axes>"
      ]
     },
     "metadata": {},
     "output_type": "display_data"
    }
   ],
   "source": [
    "plt.figure(figsize=(8,6))\n",
    "plt.scatter(x_pca[:,0],x_pca[:,1],c=df['imdb_score'],cmap='plasma')\n",
    "plt.xlabel('First principal component')\n",
    "plt.ylabel('Second Principal Component')\n"
   ]
  },
  {
   "cell_type": "code",
   "execution_count": 164,
   "metadata": {},
   "outputs": [
    {
     "data": {
      "text/plain": [
       "array([[ 0.33389234,  0.31924882,  0.34085722,  0.39349291,  0.39448817,\n",
       "         0.03124957,  0.34997769,  0.06558979,  0.08849609,  0.35559057,\n",
       "        -0.00291447,  0.31169967,  0.02739594],\n",
       "       [ 0.150599  ,  0.43445767, -0.31102615, -0.38625109,  0.43676038,\n",
       "         0.1823179 , -0.40160401, -0.07036624,  0.13071226,  0.2611338 ,\n",
       "         0.00873122, -0.22938104,  0.12014249]])"
      ]
     },
     "execution_count": 164,
     "metadata": {},
     "output_type": "execute_result"
    }
   ],
   "source": [
    "pca.components_"
   ]
  },
  {
   "cell_type": "code",
   "execution_count": null,
   "metadata": {
    "collapsed": true
   },
   "outputs": [],
   "source": []
  },
  {
   "cell_type": "code",
   "execution_count": null,
   "metadata": {
    "collapsed": true
   },
   "outputs": [],
   "source": []
  },
  {
   "cell_type": "code",
   "execution_count": null,
   "metadata": {
    "collapsed": true
   },
   "outputs": [],
   "source": []
  },
  {
   "cell_type": "code",
   "execution_count": null,
   "metadata": {
    "collapsed": true
   },
   "outputs": [],
   "source": []
  }
 ],
 "metadata": {
  "kernelspec": {
   "display_name": "Python 3",
   "language": "python",
   "name": "python3"
  },
  "language_info": {
   "codemirror_mode": {
    "name": "ipython",
    "version": 3
   },
   "file_extension": ".py",
   "mimetype": "text/x-python",
   "name": "python",
   "nbconvert_exporter": "python",
   "pygments_lexer": "ipython3",
   "version": "3.6.3"
  }
 },
 "nbformat": 4,
 "nbformat_minor": 2
}
